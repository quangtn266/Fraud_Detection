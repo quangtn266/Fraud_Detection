{
 "cells": [
  {
   "cell_type": "code",
   "execution_count": 7,
   "id": "7a1cad3e-604a-4944-afae-d78d8c4d704d",
   "metadata": {},
   "outputs": [],
   "source": [
    "import sys\n",
    "import pickle\n",
    "import numpy as np\n",
    "import pandas as pd\n",
    "import sklearn\n",
    "import matplotlib as plt"
   ]
  },
  {
   "cell_type": "code",
   "execution_count": 8,
   "id": "8c0d06b7-6941-4e7f-b21a-1a5930f754ac",
   "metadata": {},
   "outputs": [],
   "source": [
    "envron_data = pickle.load(open(\"./final_project_dataset_modified.pkl\", \"rb\"))"
   ]
  },
  {
   "cell_type": "code",
   "execution_count": 9,
   "id": "a0b271ed-f926-487a-a1d3-345dd66cc55a",
   "metadata": {},
   "outputs": [
    {
     "name": "stdout",
     "output_type": "stream",
     "text": [
      "Number of people in the Enron dataset: 143\n"
     ]
    }
   ],
   "source": [
    "print(\"Number of people in the Enron dataset: {0}\".format(len(envron_data)))"
   ]
  },
  {
   "cell_type": "code",
   "execution_count": 10,
   "id": "e0fad099-7a2a-4ec1-ba5c-21fc86e8e6fc",
   "metadata": {},
   "outputs": [],
   "source": [
    "\"\"\" Change data dictionary to pandas DataFrame\"\"\"\n",
    "df = pd.DataFrame.from_records(list(envron_data.values()))\n",
    "persons = pd.Series(list(envron_data.keys()))"
   ]
  },
  {
   "cell_type": "code",
   "execution_count": 11,
   "id": "3b5725b2-2e2a-4d70-8358-941d06565399",
   "metadata": {},
   "outputs": [
    {
     "data": {
      "text/html": [
       "<div>\n",
       "<style scoped>\n",
       "    .dataframe tbody tr th:only-of-type {\n",
       "        vertical-align: middle;\n",
       "    }\n",
       "\n",
       "    .dataframe tbody tr th {\n",
       "        vertical-align: top;\n",
       "    }\n",
       "\n",
       "    .dataframe thead th {\n",
       "        text-align: right;\n",
       "    }\n",
       "</style>\n",
       "<table border=\"1\" class=\"dataframe\">\n",
       "  <thead>\n",
       "    <tr style=\"text-align: right;\">\n",
       "      <th></th>\n",
       "      <th>salary</th>\n",
       "      <th>to_messages</th>\n",
       "      <th>deferral_payments</th>\n",
       "      <th>total_payments</th>\n",
       "      <th>loan_advances</th>\n",
       "      <th>bonus</th>\n",
       "      <th>email_address</th>\n",
       "      <th>restricted_stock_deferred</th>\n",
       "      <th>deferred_income</th>\n",
       "      <th>total_stock_value</th>\n",
       "      <th>...</th>\n",
       "      <th>from_poi_to_this_person</th>\n",
       "      <th>exercised_stock_options</th>\n",
       "      <th>from_messages</th>\n",
       "      <th>other</th>\n",
       "      <th>from_this_person_to_poi</th>\n",
       "      <th>poi</th>\n",
       "      <th>long_term_incentive</th>\n",
       "      <th>shared_receipt_with_poi</th>\n",
       "      <th>restricted_stock</th>\n",
       "      <th>director_fees</th>\n",
       "    </tr>\n",
       "  </thead>\n",
       "  <tbody>\n",
       "    <tr>\n",
       "      <th>0</th>\n",
       "      <td>365788</td>\n",
       "      <td>807</td>\n",
       "      <td>NaN</td>\n",
       "      <td>1061827</td>\n",
       "      <td>NaN</td>\n",
       "      <td>600000</td>\n",
       "      <td>mark.metts@enron.com</td>\n",
       "      <td>NaN</td>\n",
       "      <td>NaN</td>\n",
       "      <td>585062</td>\n",
       "      <td>...</td>\n",
       "      <td>38</td>\n",
       "      <td>NaN</td>\n",
       "      <td>29</td>\n",
       "      <td>1740</td>\n",
       "      <td>1</td>\n",
       "      <td>False</td>\n",
       "      <td>NaN</td>\n",
       "      <td>702</td>\n",
       "      <td>585062</td>\n",
       "      <td>NaN</td>\n",
       "    </tr>\n",
       "    <tr>\n",
       "      <th>1</th>\n",
       "      <td>267102</td>\n",
       "      <td>NaN</td>\n",
       "      <td>1295738</td>\n",
       "      <td>5634343</td>\n",
       "      <td>NaN</td>\n",
       "      <td>1200000</td>\n",
       "      <td>NaN</td>\n",
       "      <td>NaN</td>\n",
       "      <td>-1386055</td>\n",
       "      <td>10623258</td>\n",
       "      <td>...</td>\n",
       "      <td>NaN</td>\n",
       "      <td>6680544</td>\n",
       "      <td>NaN</td>\n",
       "      <td>2660303</td>\n",
       "      <td>NaN</td>\n",
       "      <td>False</td>\n",
       "      <td>1586055</td>\n",
       "      <td>NaN</td>\n",
       "      <td>3942714</td>\n",
       "      <td>NaN</td>\n",
       "    </tr>\n",
       "    <tr>\n",
       "      <th>2</th>\n",
       "      <td>170941</td>\n",
       "      <td>NaN</td>\n",
       "      <td>NaN</td>\n",
       "      <td>211725</td>\n",
       "      <td>NaN</td>\n",
       "      <td>350000</td>\n",
       "      <td>steven.elliott@enron.com</td>\n",
       "      <td>NaN</td>\n",
       "      <td>-400729</td>\n",
       "      <td>6678735</td>\n",
       "      <td>...</td>\n",
       "      <td>NaN</td>\n",
       "      <td>4890344</td>\n",
       "      <td>NaN</td>\n",
       "      <td>12961</td>\n",
       "      <td>NaN</td>\n",
       "      <td>False</td>\n",
       "      <td>NaN</td>\n",
       "      <td>NaN</td>\n",
       "      <td>1788391</td>\n",
       "      <td>NaN</td>\n",
       "    </tr>\n",
       "    <tr>\n",
       "      <th>3</th>\n",
       "      <td>NaN</td>\n",
       "      <td>764</td>\n",
       "      <td>NaN</td>\n",
       "      <td>NaN</td>\n",
       "      <td>NaN</td>\n",
       "      <td>NaN</td>\n",
       "      <td>bill.cordes@enron.com</td>\n",
       "      <td>NaN</td>\n",
       "      <td>NaN</td>\n",
       "      <td>1038185</td>\n",
       "      <td>...</td>\n",
       "      <td>10</td>\n",
       "      <td>651850</td>\n",
       "      <td>12</td>\n",
       "      <td>NaN</td>\n",
       "      <td>0</td>\n",
       "      <td>False</td>\n",
       "      <td>NaN</td>\n",
       "      <td>58</td>\n",
       "      <td>386335</td>\n",
       "      <td>NaN</td>\n",
       "    </tr>\n",
       "    <tr>\n",
       "      <th>4</th>\n",
       "      <td>243293</td>\n",
       "      <td>1045</td>\n",
       "      <td>NaN</td>\n",
       "      <td>288682</td>\n",
       "      <td>NaN</td>\n",
       "      <td>1500000</td>\n",
       "      <td>kevin.hannon@enron.com</td>\n",
       "      <td>NaN</td>\n",
       "      <td>-3117011</td>\n",
       "      <td>6391065</td>\n",
       "      <td>...</td>\n",
       "      <td>32</td>\n",
       "      <td>5538001</td>\n",
       "      <td>32</td>\n",
       "      <td>11350</td>\n",
       "      <td>21</td>\n",
       "      <td>True</td>\n",
       "      <td>1617011</td>\n",
       "      <td>1035</td>\n",
       "      <td>853064</td>\n",
       "      <td>NaN</td>\n",
       "    </tr>\n",
       "  </tbody>\n",
       "</table>\n",
       "<p>5 rows × 21 columns</p>\n",
       "</div>"
      ],
      "text/plain": [
       "   salary to_messages deferral_payments total_payments loan_advances    bonus  \\\n",
       "0  365788         807               NaN        1061827           NaN   600000   \n",
       "1  267102         NaN           1295738        5634343           NaN  1200000   \n",
       "2  170941         NaN               NaN         211725           NaN   350000   \n",
       "3     NaN         764               NaN            NaN           NaN      NaN   \n",
       "4  243293        1045               NaN         288682           NaN  1500000   \n",
       "\n",
       "              email_address restricted_stock_deferred deferred_income  \\\n",
       "0      mark.metts@enron.com                       NaN             NaN   \n",
       "1                       NaN                       NaN        -1386055   \n",
       "2  steven.elliott@enron.com                       NaN         -400729   \n",
       "3     bill.cordes@enron.com                       NaN             NaN   \n",
       "4    kevin.hannon@enron.com                       NaN        -3117011   \n",
       "\n",
       "  total_stock_value  ... from_poi_to_this_person exercised_stock_options  \\\n",
       "0            585062  ...                      38                     NaN   \n",
       "1          10623258  ...                     NaN                 6680544   \n",
       "2           6678735  ...                     NaN                 4890344   \n",
       "3           1038185  ...                      10                  651850   \n",
       "4           6391065  ...                      32                 5538001   \n",
       "\n",
       "  from_messages    other from_this_person_to_poi    poi  long_term_incentive  \\\n",
       "0            29     1740                       1  False                  NaN   \n",
       "1           NaN  2660303                     NaN  False              1586055   \n",
       "2           NaN    12961                     NaN  False                  NaN   \n",
       "3            12      NaN                       0  False                  NaN   \n",
       "4            32    11350                      21   True              1617011   \n",
       "\n",
       "  shared_receipt_with_poi restricted_stock director_fees  \n",
       "0                     702           585062           NaN  \n",
       "1                     NaN          3942714           NaN  \n",
       "2                     NaN          1788391           NaN  \n",
       "3                      58           386335           NaN  \n",
       "4                    1035           853064           NaN  \n",
       "\n",
       "[5 rows x 21 columns]"
      ]
     },
     "execution_count": 11,
     "metadata": {},
     "output_type": "execute_result"
    }
   ],
   "source": [
    "df.head(5)"
   ]
  },
  {
   "cell_type": "code",
   "execution_count": 12,
   "id": "357b7f2a-c50b-4ee2-b606-e68859093252",
   "metadata": {},
   "outputs": [
    {
     "data": {
      "text/plain": [
       "0          METTS MARK\n",
       "1       BAXTER JOHN C\n",
       "2      ELLIOTT STEVEN\n",
       "3    CORDES WILLIAM R\n",
       "4      HANNON KEVIN P\n",
       "dtype: object"
      ]
     },
     "execution_count": 12,
     "metadata": {},
     "output_type": "execute_result"
    }
   ],
   "source": [
    "persons.head(5)"
   ]
  },
  {
   "cell_type": "code",
   "execution_count": 13,
   "id": "062fcbe3-016e-4615-823c-8eece1768529",
   "metadata": {},
   "outputs": [
    {
     "name": "stdout",
     "output_type": "stream",
     "text": [
      "Number of POI's(Person of interests): 16\n"
     ]
    }
   ],
   "source": [
    "pois = [x for x, y in envron_data.items() if y['poi']]\n",
    "print('Number of POI\\'s(Person of interests): {0}'.format(len(pois)))"
   ]
  },
  {
   "cell_type": "code",
   "execution_count": 14,
   "id": "8bc0a7d4-39ab-4d33-8cae-2b984e4d7713",
   "metadata": {},
   "outputs": [
    {
     "name": "stdout",
     "output_type": "stream",
     "text": [
      "<class 'pandas.core.frame.DataFrame'>\n",
      "RangeIndex: 143 entries, 0 to 142\n",
      "Data columns (total 21 columns):\n",
      " #   Column                     Non-Null Count  Dtype \n",
      "---  ------                     --------------  ----- \n",
      " 0   salary                     143 non-null    object\n",
      " 1   to_messages                143 non-null    object\n",
      " 2   deferral_payments          143 non-null    object\n",
      " 3   total_payments             143 non-null    object\n",
      " 4   loan_advances              143 non-null    object\n",
      " 5   bonus                      143 non-null    object\n",
      " 6   email_address              143 non-null    object\n",
      " 7   restricted_stock_deferred  143 non-null    object\n",
      " 8   deferred_income            143 non-null    object\n",
      " 9   total_stock_value          142 non-null    object\n",
      " 10  expenses                   143 non-null    object\n",
      " 11  from_poi_to_this_person    143 non-null    object\n",
      " 12  exercised_stock_options    143 non-null    object\n",
      " 13  from_messages              143 non-null    object\n",
      " 14  other                      143 non-null    object\n",
      " 15  from_this_person_to_poi    143 non-null    object\n",
      " 16  poi                        143 non-null    bool  \n",
      " 17  long_term_incentive        143 non-null    object\n",
      " 18  shared_receipt_with_poi    143 non-null    object\n",
      " 19  restricted_stock           143 non-null    object\n",
      " 20  director_fees              143 non-null    object\n",
      "dtypes: bool(1), object(20)\n",
      "memory usage: 22.6+ KB\n"
     ]
    }
   ],
   "source": [
    "df.info()"
   ]
  },
  {
   "cell_type": "code",
   "execution_count": 15,
   "id": "f96b2d2d-91ff-4771-aae8-44b73c10f355",
   "metadata": {},
   "outputs": [
    {
     "data": {
      "text/html": [
       "<div>\n",
       "<style scoped>\n",
       "    .dataframe tbody tr th:only-of-type {\n",
       "        vertical-align: middle;\n",
       "    }\n",
       "\n",
       "    .dataframe tbody tr th {\n",
       "        vertical-align: top;\n",
       "    }\n",
       "\n",
       "    .dataframe thead th {\n",
       "        text-align: right;\n",
       "    }\n",
       "</style>\n",
       "<table border=\"1\" class=\"dataframe\">\n",
       "  <thead>\n",
       "    <tr style=\"text-align: right;\">\n",
       "      <th></th>\n",
       "      <th>salary</th>\n",
       "      <th>to_messages</th>\n",
       "      <th>deferral_payments</th>\n",
       "      <th>total_payments</th>\n",
       "      <th>loan_advances</th>\n",
       "      <th>bonus</th>\n",
       "      <th>email_address</th>\n",
       "      <th>restricted_stock_deferred</th>\n",
       "      <th>deferred_income</th>\n",
       "      <th>total_stock_value</th>\n",
       "      <th>...</th>\n",
       "      <th>from_poi_to_this_person</th>\n",
       "      <th>exercised_stock_options</th>\n",
       "      <th>from_messages</th>\n",
       "      <th>other</th>\n",
       "      <th>from_this_person_to_poi</th>\n",
       "      <th>poi</th>\n",
       "      <th>long_term_incentive</th>\n",
       "      <th>shared_receipt_with_poi</th>\n",
       "      <th>restricted_stock</th>\n",
       "      <th>director_fees</th>\n",
       "    </tr>\n",
       "  </thead>\n",
       "  <tbody>\n",
       "    <tr>\n",
       "      <th>count</th>\n",
       "      <td>143</td>\n",
       "      <td>143</td>\n",
       "      <td>143</td>\n",
       "      <td>143</td>\n",
       "      <td>143</td>\n",
       "      <td>143</td>\n",
       "      <td>143</td>\n",
       "      <td>143</td>\n",
       "      <td>143</td>\n",
       "      <td>142</td>\n",
       "      <td>...</td>\n",
       "      <td>143</td>\n",
       "      <td>143</td>\n",
       "      <td>143</td>\n",
       "      <td>143</td>\n",
       "      <td>143</td>\n",
       "      <td>143</td>\n",
       "      <td>143</td>\n",
       "      <td>143</td>\n",
       "      <td>143</td>\n",
       "      <td>143</td>\n",
       "    </tr>\n",
       "    <tr>\n",
       "      <th>unique</th>\n",
       "      <td>92</td>\n",
       "      <td>85</td>\n",
       "      <td>38</td>\n",
       "      <td>123</td>\n",
       "      <td>3</td>\n",
       "      <td>39</td>\n",
       "      <td>110</td>\n",
       "      <td>18</td>\n",
       "      <td>44</td>\n",
       "      <td>122</td>\n",
       "      <td>...</td>\n",
       "      <td>56</td>\n",
       "      <td>99</td>\n",
       "      <td>64</td>\n",
       "      <td>90</td>\n",
       "      <td>40</td>\n",
       "      <td>2</td>\n",
       "      <td>50</td>\n",
       "      <td>82</td>\n",
       "      <td>95</td>\n",
       "      <td>17</td>\n",
       "    </tr>\n",
       "    <tr>\n",
       "      <th>top</th>\n",
       "      <td>NaN</td>\n",
       "      <td>NaN</td>\n",
       "      <td>NaN</td>\n",
       "      <td>NaN</td>\n",
       "      <td>NaN</td>\n",
       "      <td>NaN</td>\n",
       "      <td>NaN</td>\n",
       "      <td>NaN</td>\n",
       "      <td>NaN</td>\n",
       "      <td>NaN</td>\n",
       "      <td>...</td>\n",
       "      <td>NaN</td>\n",
       "      <td>NaN</td>\n",
       "      <td>NaN</td>\n",
       "      <td>NaN</td>\n",
       "      <td>NaN</td>\n",
       "      <td>False</td>\n",
       "      <td>NaN</td>\n",
       "      <td>NaN</td>\n",
       "      <td>NaN</td>\n",
       "      <td>NaN</td>\n",
       "    </tr>\n",
       "    <tr>\n",
       "      <th>freq</th>\n",
       "      <td>51</td>\n",
       "      <td>59</td>\n",
       "      <td>106</td>\n",
       "      <td>21</td>\n",
       "      <td>141</td>\n",
       "      <td>64</td>\n",
       "      <td>34</td>\n",
       "      <td>126</td>\n",
       "      <td>96</td>\n",
       "      <td>19</td>\n",
       "      <td>...</td>\n",
       "      <td>59</td>\n",
       "      <td>44</td>\n",
       "      <td>59</td>\n",
       "      <td>53</td>\n",
       "      <td>59</td>\n",
       "      <td>127</td>\n",
       "      <td>80</td>\n",
       "      <td>59</td>\n",
       "      <td>36</td>\n",
       "      <td>127</td>\n",
       "    </tr>\n",
       "  </tbody>\n",
       "</table>\n",
       "<p>4 rows × 21 columns</p>\n",
       "</div>"
      ],
      "text/plain": [
       "       salary to_messages deferral_payments total_payments loan_advances  \\\n",
       "count     143         143               143            143           143   \n",
       "unique     92          85                38            123             3   \n",
       "top       NaN         NaN               NaN            NaN           NaN   \n",
       "freq       51          59               106             21           141   \n",
       "\n",
       "       bonus email_address restricted_stock_deferred deferred_income  \\\n",
       "count    143           143                       143             143   \n",
       "unique    39           110                        18              44   \n",
       "top      NaN           NaN                       NaN             NaN   \n",
       "freq      64            34                       126              96   \n",
       "\n",
       "       total_stock_value  ... from_poi_to_this_person exercised_stock_options  \\\n",
       "count                142  ...                     143                     143   \n",
       "unique               122  ...                      56                      99   \n",
       "top                  NaN  ...                     NaN                     NaN   \n",
       "freq                  19  ...                      59                      44   \n",
       "\n",
       "       from_messages other from_this_person_to_poi    poi long_term_incentive  \\\n",
       "count            143   143                     143    143                 143   \n",
       "unique            64    90                      40      2                  50   \n",
       "top              NaN   NaN                     NaN  False                 NaN   \n",
       "freq              59    53                      59    127                  80   \n",
       "\n",
       "       shared_receipt_with_poi restricted_stock director_fees  \n",
       "count                      143              143           143  \n",
       "unique                      82               95            17  \n",
       "top                        NaN              NaN           NaN  \n",
       "freq                        59               36           127  \n",
       "\n",
       "[4 rows x 21 columns]"
      ]
     },
     "execution_count": 15,
     "metadata": {},
     "output_type": "execute_result"
    }
   ],
   "source": [
    "df.describe()"
   ]
  },
  {
   "cell_type": "code",
   "execution_count": 16,
   "id": "a8150dff-c44a-4fc5-afce-8aae8d338807",
   "metadata": {},
   "outputs": [
    {
     "data": {
      "text/plain": [
       "dict_keys(['METTS MARK', 'BAXTER JOHN C', 'ELLIOTT STEVEN', 'CORDES WILLIAM R', 'HANNON KEVIN P', 'MORDAUNT KRISTINA M', 'MEYER ROCKFORD G', 'MCMAHON JEFFREY', 'HAEDICKE MARK E', 'PIPER GREGORY F', 'HUMPHREY GENE E', 'NOLES JAMES L', 'BLACHMAN JEREMY M', 'SUNDE MARTIN', 'GIBBS DANA R', 'LOWRY CHARLES P', 'COLWELL WESLEY', 'MULLER MARK S', 'JACKSON CHARLENE R', 'WESTFAHL RICHARD K', 'WALTERS GARETH W', 'WALLS JR ROBERT H', 'KITCHEN LOUISE', 'CHAN RONNIE', 'BELFER ROBERT', 'SHANKMAN JEFFREY A', 'WODRASKA JOHN', 'BERGSIEKER RICHARD P', 'URQUHART JOHN A', 'BIBI PHILIPPE A', 'RIEKER PAULA H', 'WHALEY DAVID A', 'BECK SALLY W', 'HAUG DAVID L', 'ECHOLS JOHN B', 'MENDELSOHN JOHN', 'HICKERSON GARY J', 'CLINE KENNETH W', 'LEWIS RICHARD', 'HAYES ROBERT E', 'KOPPER MICHAEL J', 'LEFF DANIEL P', 'LAVORATO JOHN J', 'BERBERIAN DAVID', 'DETMERING TIMOTHY J', 'WAKEHAM JOHN', 'POWERS WILLIAM', 'GOLD JOSEPH', 'BANNANTINE JAMES M', 'DUNCAN JOHN H', 'SHAPIRO RICHARD S', 'SHERRIFF JOHN R', 'SHELBY REX', 'LEMAISTRE CHARLES', 'DEFFNER JOSEPH M', 'KISHKILL JOSEPH G', 'WHALLEY LAWRENCE G', 'MCCONNELL MICHAEL S', 'PIRO JIM', 'DELAINEY DAVID W', 'SULLIVAN-SHAKLOVITZ COLLEEN', 'WROBEL BRUCE', 'LINDHOLM TOD A', 'MEYER JEROME J', 'BUTTS ROBERT H', 'OLSON CINDY K', 'MCDONALD REBECCA', 'CUMBERLAND MICHAEL S', 'GAHN ROBERT S', 'BADUM JAMES P', 'HERMANN ROBERT J', 'FALLON JAMES B', 'GATHMANN WILLIAM D', 'HORTON STANLEY C', 'BOWEN JR RAYMOND M', 'GILLIS JOHN', 'FITZGERALD JAY L', 'MORAN MICHAEL P', 'REDMOND BRIAN L', 'BAZELIDES PHILIP J', 'BELDEN TIMOTHY N', 'DIMICHELE RICHARD G', 'DURAN WILLIAM D', 'THORN TERENCE H', 'FASTOW ANDREW S', 'FOY JOE', 'CALGER CHRISTOPHER F', 'RICE KENNETH D', 'KAMINSKI WINCENTY J', 'LOCKHART EUGENE E', 'COX DAVID', 'OVERDYKE JR JERE C', 'PEREIRA PAULO V. FERRAZ', 'STABLER FRANK', 'BLAKE JR. NORMAN P', 'SHERRICK JEFFREY B', 'PRENTICE JAMES', 'GRAY RODNEY', 'THE TRAVEL AGENCY IN THE PARK', 'UMANOFF ADAM S', 'KEAN STEVEN J', 'FOWLER PEGGY', 'WASAFF GEORGE', 'WHITE JR THOMAS E', 'CHRISTODOULOU DIOMEDES', 'ALLEN PHILLIP K', 'SHARP VICTORIA T', 'JAEDICKE ROBERT', 'WINOKUR JR. HERBERT S', 'BROWN MICHAEL', 'MCCLELLAN GEORGE', 'HUGHES JAMES A', 'REYNOLDS LAWRENCE', 'PICKERING MARK R', 'BHATNAGAR SANJAY', 'CARTER REBECCA C', 'BUCHANAN HAROLD G', 'YEAP SOON', 'MURRAY JULIA H', 'GARLAND C KEVIN', 'DODSON KEITH', 'YEAGER F SCOTT', 'HIRKO JOSEPH', 'DIETRICH JANET R', 'DERRICK JR. JAMES V', 'FREVERT MARK A', 'PAI LOU L', 'HAYSLETT RODERICK J', 'BAY FRANKLIN R', 'MCCARTY DANNY J', 'FUGH JOHN L', 'SCRIMSHAW MATTHEW', 'KOENIG MARK E', 'SAVAGE FRANK', 'IZZO LAWRENCE L', 'TILNEY ELIZABETH A', 'MARTIN AMANDA K', 'BUY RICHARD B', 'GRAMM WENDY L', 'CAUSEY RICHARD A', 'TAYLOR MITCHELL S', 'DONAHUE JR JEFFREY M', 'GLISAN JR BEN F'])"
      ]
     },
     "execution_count": 16,
     "metadata": {},
     "output_type": "execute_result"
    }
   ],
   "source": [
    "\"\"\" Names of all users in the dataset \"\"\"\n",
    "envron_data.keys()"
   ]
  },
  {
   "cell_type": "code",
   "execution_count": 17,
   "id": "b4754514-8278-409d-9085-8aaebe3d50d5",
   "metadata": {},
   "outputs": [],
   "source": [
    "features_list = ['poi', 'salary', 'to_messages', 'deferral_payments',\n",
    "'total_payments', 'loan_advances', 'bonus', 'restricted_stock_deferred',\n",
    "'deferred_income', 'total_stock_value', 'expenses', 'from_poi_to_this_person',\n",
    "'exercised_stock_options', 'from_messages', 'other', 'from_this_person_to_poi',\n",
    "'long_term_incentive', 'shared_receipt_with_poi', 'restricted_stock',\n",
    "                 'director_fees']"
   ]
  },
  {
   "cell_type": "code",
   "execution_count": 18,
   "id": "c15cc19c-f176-4f3a-944c-a98bf4fa9594",
   "metadata": {},
   "outputs": [],
   "source": [
    "f = open('./poi_names.txt', 'r')"
   ]
  },
  {
   "cell_type": "code",
   "execution_count": 19,
   "id": "030b3af4-313e-4705-95b4-1100073f91a9",
   "metadata": {},
   "outputs": [
    {
     "name": "stdout",
     "output_type": "stream",
     "text": [
      "Columns: ['salary', 'to_messages', 'deferral_payments', 'total_payments', 'loan_advances', 'bonus', 'email_address', 'restricted_stock_deferred', 'deferred_income', 'total_stock_value', 'expenses', 'from_poi_to_this_person', 'exercised_stock_options', 'from_messages', 'other', 'from_this_person_to_poi', 'poi', 'long_term_incentive', 'shared_receipt_with_poi', 'restricted_stock', 'director_fees']\n",
      "Shape: (143, 21)\n",
      "Number of POI in the dataset: 16\n",
      "Numbe of non-POI in the dataset: 127\n"
     ]
    }
   ],
   "source": [
    "print('Columns:', list(df.columns.values))\n",
    "print('Shape:', df.shape)\n",
    "print('Number of POI in the dataset:', (df['poi']==1).sum())\n",
    "print('Numbe of non-POI in the dataset:', (df['poi']==0).sum())"
   ]
  },
  {
   "cell_type": "code",
   "execution_count": 20,
   "id": "ca9842e4-83c4-41c9-9fba-9be1f331b15e",
   "metadata": {},
   "outputs": [],
   "source": [
    "df.replace(to_replace='NaN', value=np.nan, inplace=True)"
   ]
  },
  {
   "cell_type": "code",
   "execution_count": 21,
   "id": "819f10fa-604a-4f63-a2ac-68bfb3eb005b",
   "metadata": {},
   "outputs": [
    {
     "data": {
      "text/plain": [
       "salary                        51\n",
       "to_messages                   59\n",
       "deferral_payments            106\n",
       "total_payments                21\n",
       "loan_advances                141\n",
       "bonus                         64\n",
       "email_address                 34\n",
       "restricted_stock_deferred    126\n",
       "deferred_income               96\n",
       "total_stock_value             20\n",
       "expenses                      51\n",
       "from_poi_to_this_person       59\n",
       "exercised_stock_options       44\n",
       "from_messages                 59\n",
       "other                         53\n",
       "from_this_person_to_poi       59\n",
       "poi                            0\n",
       "long_term_incentive           80\n",
       "shared_receipt_with_poi       59\n",
       "restricted_stock              36\n",
       "director_fees                127\n",
       "dtype: int64"
      ]
     },
     "execution_count": 21,
     "metadata": {},
     "output_type": "execute_result"
    }
   ],
   "source": [
    "df.isnull().sum()"
   ]
  },
  {
   "cell_type": "markdown",
   "id": "55e0edfc-2611-4ae1-a148-0c9075255ceb",
   "metadata": {},
   "source": [
    "## Regression (Outlier Investigation)"
   ]
  },
  {
   "cell_type": "code",
   "execution_count": 22,
   "id": "2697c6bb-ffc3-46f2-a307-d53e042fa207",
   "metadata": {},
   "outputs": [
    {
     "name": "stderr",
     "output_type": "stream",
     "text": [
      "/var/folders/r8/__hqjl2n5j5_wf6w5j15gn300000gn/T/ipykernel_64420/2767730045.py:3: FutureWarning: iteritems is deprecated and will be removed in a future version. Use .items instead.\n",
      "  for column, series in df.iteritems():\n"
     ]
    }
   ],
   "source": [
    "## remove column from df if null counter > 65\n",
    "\n",
    "for column, series in df.iteritems():\n",
    "    if series.isnull().sum() > 65:\n",
    "        df.drop(column, axis=1, inplace=True)"
   ]
  },
  {
   "cell_type": "code",
   "execution_count": 23,
   "id": "ec1ddcd0-3bb2-4509-bdb1-ea6b4d6ccf91",
   "metadata": {},
   "outputs": [],
   "source": [
    "## remove email address column\n",
    "if 'email_address' in list(df.columns.values):\n",
    "    df.drop('email_address', axis=1, inplace=True)"
   ]
  },
  {
   "cell_type": "code",
   "execution_count": 24,
   "id": "c1643593-0537-4ef6-808a-9317045e5489",
   "metadata": {},
   "outputs": [
    {
     "name": "stdout",
     "output_type": "stream",
     "text": [
      "<class 'pandas.core.frame.DataFrame'>\n",
      "RangeIndex: 143 entries, 0 to 142\n",
      "Data columns (total 14 columns):\n",
      " #   Column                   Non-Null Count  Dtype  \n",
      "---  ------                   --------------  -----  \n",
      " 0   salary                   92 non-null     float64\n",
      " 1   to_messages              84 non-null     float64\n",
      " 2   total_payments           122 non-null    float64\n",
      " 3   bonus                    79 non-null     float64\n",
      " 4   total_stock_value        123 non-null    float64\n",
      " 5   expenses                 92 non-null     float64\n",
      " 6   from_poi_to_this_person  84 non-null     float64\n",
      " 7   exercised_stock_options  99 non-null     float64\n",
      " 8   from_messages            84 non-null     float64\n",
      " 9   other                    90 non-null     float64\n",
      " 10  from_this_person_to_poi  84 non-null     float64\n",
      " 11  poi                      143 non-null    bool   \n",
      " 12  shared_receipt_with_poi  84 non-null     float64\n",
      " 13  restricted_stock         107 non-null    float64\n",
      "dtypes: bool(1), float64(13)\n",
      "memory usage: 14.8 KB\n"
     ]
    }
   ],
   "source": [
    "df.info()"
   ]
  },
  {
   "cell_type": "code",
   "execution_count": 25,
   "id": "40adcd49-e9fb-4a5a-abdc-99506d6531c4",
   "metadata": {},
   "outputs": [],
   "source": [
    "# imputing the missing values\n",
    "df_imp = df.replace(to_replace=np.nan, value=0)\n",
    "df_imp = df.fillna(0).copy(deep=True)\n",
    "df_imp.columns = list(df.columns.values)"
   ]
  },
  {
   "cell_type": "code",
   "execution_count": 26,
   "id": "89863e0e-ca5b-470d-8bb2-ad81756ddbc9",
   "metadata": {},
   "outputs": [
    {
     "data": {
      "text/plain": [
       "salary                     0\n",
       "to_messages                0\n",
       "total_payments             0\n",
       "bonus                      0\n",
       "total_stock_value          0\n",
       "expenses                   0\n",
       "from_poi_to_this_person    0\n",
       "exercised_stock_options    0\n",
       "from_messages              0\n",
       "other                      0\n",
       "from_this_person_to_poi    0\n",
       "poi                        0\n",
       "shared_receipt_with_poi    0\n",
       "restricted_stock           0\n",
       "dtype: int64"
      ]
     },
     "execution_count": 26,
     "metadata": {},
     "output_type": "execute_result"
    }
   ],
   "source": [
    "df_imp.isnull().sum()"
   ]
  },
  {
   "cell_type": "code",
   "execution_count": 27,
   "id": "037cd79d-cf6f-42ed-9fa3-bb0860a231a4",
   "metadata": {},
   "outputs": [
    {
     "data": {
      "text/html": [
       "<div>\n",
       "<style scoped>\n",
       "    .dataframe tbody tr th:only-of-type {\n",
       "        vertical-align: middle;\n",
       "    }\n",
       "\n",
       "    .dataframe tbody tr th {\n",
       "        vertical-align: top;\n",
       "    }\n",
       "\n",
       "    .dataframe thead th {\n",
       "        text-align: right;\n",
       "    }\n",
       "</style>\n",
       "<table border=\"1\" class=\"dataframe\">\n",
       "  <thead>\n",
       "    <tr style=\"text-align: right;\">\n",
       "      <th></th>\n",
       "      <th>salary</th>\n",
       "      <th>to_messages</th>\n",
       "      <th>total_payments</th>\n",
       "      <th>bonus</th>\n",
       "      <th>total_stock_value</th>\n",
       "      <th>expenses</th>\n",
       "      <th>from_poi_to_this_person</th>\n",
       "      <th>exercised_stock_options</th>\n",
       "      <th>from_messages</th>\n",
       "      <th>other</th>\n",
       "      <th>from_this_person_to_poi</th>\n",
       "      <th>poi</th>\n",
       "      <th>shared_receipt_with_poi</th>\n",
       "      <th>restricted_stock</th>\n",
       "    </tr>\n",
       "  </thead>\n",
       "  <tbody>\n",
       "    <tr>\n",
       "      <th>0</th>\n",
       "      <td>365788.0</td>\n",
       "      <td>807.0</td>\n",
       "      <td>1061827.0</td>\n",
       "      <td>600000.0</td>\n",
       "      <td>585062.0</td>\n",
       "      <td>94299.0</td>\n",
       "      <td>38.0</td>\n",
       "      <td>0.0</td>\n",
       "      <td>29.0</td>\n",
       "      <td>1740.0</td>\n",
       "      <td>1.0</td>\n",
       "      <td>False</td>\n",
       "      <td>702.0</td>\n",
       "      <td>585062.0</td>\n",
       "    </tr>\n",
       "    <tr>\n",
       "      <th>1</th>\n",
       "      <td>267102.0</td>\n",
       "      <td>0.0</td>\n",
       "      <td>5634343.0</td>\n",
       "      <td>1200000.0</td>\n",
       "      <td>10623258.0</td>\n",
       "      <td>11200.0</td>\n",
       "      <td>0.0</td>\n",
       "      <td>6680544.0</td>\n",
       "      <td>0.0</td>\n",
       "      <td>2660303.0</td>\n",
       "      <td>0.0</td>\n",
       "      <td>False</td>\n",
       "      <td>0.0</td>\n",
       "      <td>3942714.0</td>\n",
       "    </tr>\n",
       "    <tr>\n",
       "      <th>2</th>\n",
       "      <td>170941.0</td>\n",
       "      <td>0.0</td>\n",
       "      <td>211725.0</td>\n",
       "      <td>350000.0</td>\n",
       "      <td>6678735.0</td>\n",
       "      <td>78552.0</td>\n",
       "      <td>0.0</td>\n",
       "      <td>4890344.0</td>\n",
       "      <td>0.0</td>\n",
       "      <td>12961.0</td>\n",
       "      <td>0.0</td>\n",
       "      <td>False</td>\n",
       "      <td>0.0</td>\n",
       "      <td>1788391.0</td>\n",
       "    </tr>\n",
       "    <tr>\n",
       "      <th>3</th>\n",
       "      <td>0.0</td>\n",
       "      <td>764.0</td>\n",
       "      <td>0.0</td>\n",
       "      <td>0.0</td>\n",
       "      <td>1038185.0</td>\n",
       "      <td>0.0</td>\n",
       "      <td>10.0</td>\n",
       "      <td>651850.0</td>\n",
       "      <td>12.0</td>\n",
       "      <td>0.0</td>\n",
       "      <td>0.0</td>\n",
       "      <td>False</td>\n",
       "      <td>58.0</td>\n",
       "      <td>386335.0</td>\n",
       "    </tr>\n",
       "    <tr>\n",
       "      <th>4</th>\n",
       "      <td>243293.0</td>\n",
       "      <td>1045.0</td>\n",
       "      <td>288682.0</td>\n",
       "      <td>1500000.0</td>\n",
       "      <td>6391065.0</td>\n",
       "      <td>34039.0</td>\n",
       "      <td>32.0</td>\n",
       "      <td>5538001.0</td>\n",
       "      <td>32.0</td>\n",
       "      <td>11350.0</td>\n",
       "      <td>21.0</td>\n",
       "      <td>True</td>\n",
       "      <td>1035.0</td>\n",
       "      <td>853064.0</td>\n",
       "    </tr>\n",
       "    <tr>\n",
       "      <th>5</th>\n",
       "      <td>267093.0</td>\n",
       "      <td>0.0</td>\n",
       "      <td>628522.0</td>\n",
       "      <td>325000.0</td>\n",
       "      <td>208510.0</td>\n",
       "      <td>35018.0</td>\n",
       "      <td>0.0</td>\n",
       "      <td>0.0</td>\n",
       "      <td>0.0</td>\n",
       "      <td>1411.0</td>\n",
       "      <td>0.0</td>\n",
       "      <td>False</td>\n",
       "      <td>0.0</td>\n",
       "      <td>208510.0</td>\n",
       "    </tr>\n",
       "    <tr>\n",
       "      <th>6</th>\n",
       "      <td>0.0</td>\n",
       "      <td>232.0</td>\n",
       "      <td>1848227.0</td>\n",
       "      <td>0.0</td>\n",
       "      <td>955873.0</td>\n",
       "      <td>0.0</td>\n",
       "      <td>0.0</td>\n",
       "      <td>493489.0</td>\n",
       "      <td>28.0</td>\n",
       "      <td>0.0</td>\n",
       "      <td>0.0</td>\n",
       "      <td>False</td>\n",
       "      <td>22.0</td>\n",
       "      <td>462384.0</td>\n",
       "    </tr>\n",
       "    <tr>\n",
       "      <th>7</th>\n",
       "      <td>370448.0</td>\n",
       "      <td>2355.0</td>\n",
       "      <td>4099771.0</td>\n",
       "      <td>2600000.0</td>\n",
       "      <td>1662855.0</td>\n",
       "      <td>137108.0</td>\n",
       "      <td>58.0</td>\n",
       "      <td>1104054.0</td>\n",
       "      <td>48.0</td>\n",
       "      <td>297353.0</td>\n",
       "      <td>26.0</td>\n",
       "      <td>False</td>\n",
       "      <td>2228.0</td>\n",
       "      <td>558801.0</td>\n",
       "    </tr>\n",
       "    <tr>\n",
       "      <th>8</th>\n",
       "      <td>374125.0</td>\n",
       "      <td>4009.0</td>\n",
       "      <td>3859065.0</td>\n",
       "      <td>1150000.0</td>\n",
       "      <td>803094.0</td>\n",
       "      <td>76169.0</td>\n",
       "      <td>180.0</td>\n",
       "      <td>608750.0</td>\n",
       "      <td>1941.0</td>\n",
       "      <td>52382.0</td>\n",
       "      <td>61.0</td>\n",
       "      <td>False</td>\n",
       "      <td>1847.0</td>\n",
       "      <td>524169.0</td>\n",
       "    </tr>\n",
       "    <tr>\n",
       "      <th>9</th>\n",
       "      <td>197091.0</td>\n",
       "      <td>1238.0</td>\n",
       "      <td>1737629.0</td>\n",
       "      <td>400000.0</td>\n",
       "      <td>880290.0</td>\n",
       "      <td>43057.0</td>\n",
       "      <td>61.0</td>\n",
       "      <td>880290.0</td>\n",
       "      <td>222.0</td>\n",
       "      <td>778.0</td>\n",
       "      <td>48.0</td>\n",
       "      <td>False</td>\n",
       "      <td>742.0</td>\n",
       "      <td>409554.0</td>\n",
       "    </tr>\n",
       "  </tbody>\n",
       "</table>\n",
       "</div>"
      ],
      "text/plain": [
       "     salary  to_messages  total_payments      bonus  total_stock_value  \\\n",
       "0  365788.0        807.0       1061827.0   600000.0           585062.0   \n",
       "1  267102.0          0.0       5634343.0  1200000.0         10623258.0   \n",
       "2  170941.0          0.0        211725.0   350000.0          6678735.0   \n",
       "3       0.0        764.0             0.0        0.0          1038185.0   \n",
       "4  243293.0       1045.0        288682.0  1500000.0          6391065.0   \n",
       "5  267093.0          0.0        628522.0   325000.0           208510.0   \n",
       "6       0.0        232.0       1848227.0        0.0           955873.0   \n",
       "7  370448.0       2355.0       4099771.0  2600000.0          1662855.0   \n",
       "8  374125.0       4009.0       3859065.0  1150000.0           803094.0   \n",
       "9  197091.0       1238.0       1737629.0   400000.0           880290.0   \n",
       "\n",
       "   expenses  from_poi_to_this_person  exercised_stock_options  from_messages  \\\n",
       "0   94299.0                     38.0                      0.0           29.0   \n",
       "1   11200.0                      0.0                6680544.0            0.0   \n",
       "2   78552.0                      0.0                4890344.0            0.0   \n",
       "3       0.0                     10.0                 651850.0           12.0   \n",
       "4   34039.0                     32.0                5538001.0           32.0   \n",
       "5   35018.0                      0.0                      0.0            0.0   \n",
       "6       0.0                      0.0                 493489.0           28.0   \n",
       "7  137108.0                     58.0                1104054.0           48.0   \n",
       "8   76169.0                    180.0                 608750.0         1941.0   \n",
       "9   43057.0                     61.0                 880290.0          222.0   \n",
       "\n",
       "       other  from_this_person_to_poi    poi  shared_receipt_with_poi  \\\n",
       "0     1740.0                      1.0  False                    702.0   \n",
       "1  2660303.0                      0.0  False                      0.0   \n",
       "2    12961.0                      0.0  False                      0.0   \n",
       "3        0.0                      0.0  False                     58.0   \n",
       "4    11350.0                     21.0   True                   1035.0   \n",
       "5     1411.0                      0.0  False                      0.0   \n",
       "6        0.0                      0.0  False                     22.0   \n",
       "7   297353.0                     26.0  False                   2228.0   \n",
       "8    52382.0                     61.0  False                   1847.0   \n",
       "9      778.0                     48.0  False                    742.0   \n",
       "\n",
       "   restricted_stock  \n",
       "0          585062.0  \n",
       "1         3942714.0  \n",
       "2         1788391.0  \n",
       "3          386335.0  \n",
       "4          853064.0  \n",
       "5          208510.0  \n",
       "6          462384.0  \n",
       "7          558801.0  \n",
       "8          524169.0  \n",
       "9          409554.0  "
      ]
     },
     "execution_count": 27,
     "metadata": {},
     "output_type": "execute_result"
    }
   ],
   "source": [
    "df_imp.head(10)"
   ]
  },
  {
   "cell_type": "code",
   "execution_count": 28,
   "id": "f53bebc3-ae1b-4e48-b87b-214eda72f095",
   "metadata": {},
   "outputs": [
    {
     "data": {
      "text/html": [
       "<div>\n",
       "<style scoped>\n",
       "    .dataframe tbody tr th:only-of-type {\n",
       "        vertical-align: middle;\n",
       "    }\n",
       "\n",
       "    .dataframe tbody tr th {\n",
       "        vertical-align: top;\n",
       "    }\n",
       "\n",
       "    .dataframe thead th {\n",
       "        text-align: right;\n",
       "    }\n",
       "</style>\n",
       "<table border=\"1\" class=\"dataframe\">\n",
       "  <thead>\n",
       "    <tr style=\"text-align: right;\">\n",
       "      <th></th>\n",
       "      <th>salary</th>\n",
       "      <th>to_messages</th>\n",
       "      <th>total_payments</th>\n",
       "      <th>bonus</th>\n",
       "      <th>total_stock_value</th>\n",
       "      <th>expenses</th>\n",
       "      <th>from_poi_to_this_person</th>\n",
       "      <th>exercised_stock_options</th>\n",
       "      <th>from_messages</th>\n",
       "      <th>other</th>\n",
       "      <th>from_this_person_to_poi</th>\n",
       "      <th>shared_receipt_with_poi</th>\n",
       "      <th>restricted_stock</th>\n",
       "    </tr>\n",
       "  </thead>\n",
       "  <tbody>\n",
       "    <tr>\n",
       "      <th>count</th>\n",
       "      <td>9.200000e+01</td>\n",
       "      <td>84.000000</td>\n",
       "      <td>1.220000e+02</td>\n",
       "      <td>7.900000e+01</td>\n",
       "      <td>1.230000e+02</td>\n",
       "      <td>92.000000</td>\n",
       "      <td>84.000000</td>\n",
       "      <td>9.900000e+01</td>\n",
       "      <td>84.000000</td>\n",
       "      <td>9.000000e+01</td>\n",
       "      <td>84.000000</td>\n",
       "      <td>84.000000</td>\n",
       "      <td>1.070000e+02</td>\n",
       "    </tr>\n",
       "    <tr>\n",
       "      <th>mean</th>\n",
       "      <td>2.665288e+05</td>\n",
       "      <td>2029.190476</td>\n",
       "      <td>1.746408e+06</td>\n",
       "      <td>1.072704e+06</td>\n",
       "      <td>2.795166e+06</td>\n",
       "      <td>53966.097826</td>\n",
       "      <td>63.928571</td>\n",
       "      <td>2.477951e+06</td>\n",
       "      <td>621.571429</td>\n",
       "      <td>3.602622e+05</td>\n",
       "      <td>41.666667</td>\n",
       "      <td>1151.464286</td>\n",
       "      <td>9.669520e+05</td>\n",
       "    </tr>\n",
       "    <tr>\n",
       "      <th>std</th>\n",
       "      <td>1.319352e+05</td>\n",
       "      <td>2596.483254</td>\n",
       "      <td>2.496720e+06</td>\n",
       "      <td>1.198264e+06</td>\n",
       "      <td>4.654469e+06</td>\n",
       "      <td>46292.292167</td>\n",
       "      <td>87.747555</td>\n",
       "      <td>4.226731e+06</td>\n",
       "      <td>1861.165940</td>\n",
       "      <td>9.280942e+05</td>\n",
       "      <td>101.225304</td>\n",
       "      <td>1180.621793</td>\n",
       "      <td>1.751974e+06</td>\n",
       "    </tr>\n",
       "    <tr>\n",
       "      <th>min</th>\n",
       "      <td>4.770000e+02</td>\n",
       "      <td>57.000000</td>\n",
       "      <td>1.480000e+02</td>\n",
       "      <td>7.000000e+04</td>\n",
       "      <td>-4.409300e+04</td>\n",
       "      <td>148.000000</td>\n",
       "      <td>0.000000</td>\n",
       "      <td>3.285000e+03</td>\n",
       "      <td>12.000000</td>\n",
       "      <td>2.000000e+00</td>\n",
       "      <td>0.000000</td>\n",
       "      <td>2.000000</td>\n",
       "      <td>-2.604490e+06</td>\n",
       "    </tr>\n",
       "    <tr>\n",
       "      <th>25%</th>\n",
       "      <td>2.115140e+05</td>\n",
       "      <td>530.500000</td>\n",
       "      <td>3.701908e+05</td>\n",
       "      <td>4.125000e+05</td>\n",
       "      <td>4.676160e+05</td>\n",
       "      <td>22140.500000</td>\n",
       "      <td>10.000000</td>\n",
       "      <td>5.001270e+05</td>\n",
       "      <td>21.750000</td>\n",
       "      <td>1.197000e+03</td>\n",
       "      <td>1.000000</td>\n",
       "      <td>228.500000</td>\n",
       "      <td>2.437125e+05</td>\n",
       "    </tr>\n",
       "    <tr>\n",
       "      <th>50%</th>\n",
       "      <td>2.545700e+05</td>\n",
       "      <td>1136.000000</td>\n",
       "      <td>1.095882e+06</td>\n",
       "      <td>7.500000e+05</td>\n",
       "      <td>1.080988e+06</td>\n",
       "      <td>46547.500000</td>\n",
       "      <td>35.000000</td>\n",
       "      <td>1.104054e+06</td>\n",
       "      <td>41.000000</td>\n",
       "      <td>5.198450e+04</td>\n",
       "      <td>7.500000</td>\n",
       "      <td>733.500000</td>\n",
       "      <td>4.410960e+05</td>\n",
       "    </tr>\n",
       "    <tr>\n",
       "      <th>75%</th>\n",
       "      <td>3.042295e+05</td>\n",
       "      <td>2578.500000</td>\n",
       "      <td>2.039404e+06</td>\n",
       "      <td>1.125000e+06</td>\n",
       "      <td>2.497840e+06</td>\n",
       "      <td>78121.500000</td>\n",
       "      <td>66.250000</td>\n",
       "      <td>2.286940e+06</td>\n",
       "      <td>163.250000</td>\n",
       "      <td>3.440270e+05</td>\n",
       "      <td>24.250000</td>\n",
       "      <td>1759.250000</td>\n",
       "      <td>9.632520e+05</td>\n",
       "    </tr>\n",
       "    <tr>\n",
       "      <th>max</th>\n",
       "      <td>1.060932e+06</td>\n",
       "      <td>15149.000000</td>\n",
       "      <td>1.725253e+07</td>\n",
       "      <td>8.000000e+06</td>\n",
       "      <td>3.076606e+07</td>\n",
       "      <td>228763.000000</td>\n",
       "      <td>528.000000</td>\n",
       "      <td>3.076606e+07</td>\n",
       "      <td>14368.000000</td>\n",
       "      <td>7.427621e+06</td>\n",
       "      <td>609.000000</td>\n",
       "      <td>5521.000000</td>\n",
       "      <td>1.384707e+07</td>\n",
       "    </tr>\n",
       "  </tbody>\n",
       "</table>\n",
       "</div>"
      ],
      "text/plain": [
       "             salary   to_messages  total_payments         bonus  \\\n",
       "count  9.200000e+01     84.000000    1.220000e+02  7.900000e+01   \n",
       "mean   2.665288e+05   2029.190476    1.746408e+06  1.072704e+06   \n",
       "std    1.319352e+05   2596.483254    2.496720e+06  1.198264e+06   \n",
       "min    4.770000e+02     57.000000    1.480000e+02  7.000000e+04   \n",
       "25%    2.115140e+05    530.500000    3.701908e+05  4.125000e+05   \n",
       "50%    2.545700e+05   1136.000000    1.095882e+06  7.500000e+05   \n",
       "75%    3.042295e+05   2578.500000    2.039404e+06  1.125000e+06   \n",
       "max    1.060932e+06  15149.000000    1.725253e+07  8.000000e+06   \n",
       "\n",
       "       total_stock_value       expenses  from_poi_to_this_person  \\\n",
       "count       1.230000e+02      92.000000                84.000000   \n",
       "mean        2.795166e+06   53966.097826                63.928571   \n",
       "std         4.654469e+06   46292.292167                87.747555   \n",
       "min        -4.409300e+04     148.000000                 0.000000   \n",
       "25%         4.676160e+05   22140.500000                10.000000   \n",
       "50%         1.080988e+06   46547.500000                35.000000   \n",
       "75%         2.497840e+06   78121.500000                66.250000   \n",
       "max         3.076606e+07  228763.000000               528.000000   \n",
       "\n",
       "       exercised_stock_options  from_messages         other  \\\n",
       "count             9.900000e+01      84.000000  9.000000e+01   \n",
       "mean              2.477951e+06     621.571429  3.602622e+05   \n",
       "std               4.226731e+06    1861.165940  9.280942e+05   \n",
       "min               3.285000e+03      12.000000  2.000000e+00   \n",
       "25%               5.001270e+05      21.750000  1.197000e+03   \n",
       "50%               1.104054e+06      41.000000  5.198450e+04   \n",
       "75%               2.286940e+06     163.250000  3.440270e+05   \n",
       "max               3.076606e+07   14368.000000  7.427621e+06   \n",
       "\n",
       "       from_this_person_to_poi  shared_receipt_with_poi  restricted_stock  \n",
       "count                84.000000                84.000000      1.070000e+02  \n",
       "mean                 41.666667              1151.464286      9.669520e+05  \n",
       "std                 101.225304              1180.621793      1.751974e+06  \n",
       "min                   0.000000                 2.000000     -2.604490e+06  \n",
       "25%                   1.000000               228.500000      2.437125e+05  \n",
       "50%                   7.500000               733.500000      4.410960e+05  \n",
       "75%                  24.250000              1759.250000      9.632520e+05  \n",
       "max                 609.000000              5521.000000      1.384707e+07  "
      ]
     },
     "execution_count": 28,
     "metadata": {},
     "output_type": "execute_result"
    }
   ],
   "source": [
    "df.describe()"
   ]
  },
  {
   "cell_type": "code",
   "execution_count": 29,
   "id": "8fda491c-7ac5-433c-b167-56c211ae5d32",
   "metadata": {},
   "outputs": [
    {
     "data": {
      "text/plain": [
       "{'salary': 'NaN',\n",
       " 'to_messages': 'NaN',\n",
       " 'deferral_payments': 'NaN',\n",
       " 'total_payments': 362096,\n",
       " 'loan_advances': 'NaN',\n",
       " 'bonus': 'NaN',\n",
       " 'email_address': 'NaN',\n",
       " 'restricted_stock_deferred': 'NaN',\n",
       " 'deferred_income': 'NaN',\n",
       " 'total_stock_value': 'NaN',\n",
       " 'expenses': 'NaN',\n",
       " 'from_poi_to_this_person': 'NaN',\n",
       " 'exercised_stock_options': 'NaN',\n",
       " 'from_messages': 'NaN',\n",
       " 'other': 362096,\n",
       " 'from_this_person_to_poi': 'NaN',\n",
       " 'poi': False,\n",
       " 'long_term_incentive': 'NaN',\n",
       " 'shared_receipt_with_poi': 'NaN',\n",
       " 'restricted_stock': 'NaN',\n",
       " 'director_fees': 'NaN'}"
      ]
     },
     "execution_count": 29,
     "metadata": {},
     "output_type": "execute_result"
    }
   ],
   "source": [
    "## queries of the dataset\n",
    "envron_data['THE TRAVEL AGENCY IN THE PARK']"
   ]
  },
  {
   "cell_type": "code",
   "execution_count": 30,
   "id": "8979f445-1db9-4bc0-878b-fb526ebff86a",
   "metadata": {},
   "outputs": [],
   "source": [
    "from feature_format import featureFormat, targetFeatureSplit\n",
    "dictionary = pickle.load(open(\"./final_project_dataset_modified.pkl\", \"rb\"))\n",
    "features_list = [\"bonus\", \"salary\"]\n",
    "data = featureFormat(dictionary, features_list, remove_any_zeroes=True)\n",
    "target, features = targetFeatureSplit(data)"
   ]
  },
  {
   "cell_type": "code",
   "execution_count": 31,
   "id": "b67ff220-42be-40b6-9b2b-5cea3eba3dfb",
   "metadata": {},
   "outputs": [],
   "source": [
    "from sklearn.model_selection import train_test_split\n",
    "feature_train, feature_test, target_train, target_test = train_test_split(features, target, test_size=0.5, random_state=42)"
   ]
  },
  {
   "cell_type": "code",
   "execution_count": 32,
   "id": "497c48fd-019f-49ca-8ab1-0986420eef92",
   "metadata": {},
   "outputs": [],
   "source": [
    "feature_train, feature_test, target_train, target_test = train_test_split(features,\n",
    "                                                target, test_size=0.5, random_state=42)"
   ]
  },
  {
   "cell_type": "code",
   "execution_count": 33,
   "id": "7291f349-da39-4dfc-8ea7-242db80ff0c2",
   "metadata": {},
   "outputs": [],
   "source": [
    "train_color=\"b\"\n",
    "test_color=\"r\""
   ]
  },
  {
   "cell_type": "code",
   "execution_count": 34,
   "id": "849a8d15-fa16-4cfa-b68e-240197f5c21b",
   "metadata": {},
   "outputs": [
    {
     "name": "stdout",
     "output_type": "stream",
     "text": [
      "coef [1.97017287]\n",
      "intercept 662220.417601581\n"
     ]
    }
   ],
   "source": [
    "from sklearn.linear_model import LinearRegression\n",
    "reg = LinearRegression()\n",
    "reg.fit(feature_train, target_train)\n",
    "print('coef',reg.coef_)\n",
    "print('intercept', reg.intercept_)"
   ]
  },
  {
   "cell_type": "code",
   "execution_count": 35,
   "id": "54eb850c-5e18-4968-b4cf-7fc9c6f0bc49",
   "metadata": {},
   "outputs": [
    {
     "data": {
      "image/png": "[encoded data removed]",
      "text/plain": [
       "<Figure size 640x480 with 1 Axes>"
      ]
     },
     "metadata": {},
     "output_type": "display_data"
    }
   ],
   "source": [
    "import matplotlib.pyplot as plt\n",
    "for feature, target in zip(feature_test, target_test):\n",
    "    plt.scatter(feature, target, color=test_color)"
   ]
  },
  {
   "cell_type": "code",
   "execution_count": 36,
   "id": "68577262-1e3c-407b-b027-f4cdad023040",
   "metadata": {},
   "outputs": [
    {
     "data": {
      "image/png": "[encoded data removed]",
      "text/plain": [
       "<Figure size 640x480 with 1 Axes>"
      ]
     },
     "metadata": {},
     "output_type": "display_data"
    }
   ],
   "source": [
    "for feature, target in zip(feature_train, target_train):\n",
    "    plt.scatter(feature, target, color=train_color)"
   ]
  },
  {
   "cell_type": "code",
   "execution_count": 37,
   "id": "c6be87df-cd25-4ed9-901e-5aedf68b8061",
   "metadata": {},
   "outputs": [
    {
     "data": {
      "image/png": "[encoded data removed]",
      "text/plain": [
       "<Figure size 640x480 with 1 Axes>"
      ]
     },
     "metadata": {},
     "output_type": "display_data"
    }
   ],
   "source": [
    "plt.scatter(feature_test, target_test, color=test_color, label='test')\n",
    "plt.scatter(feature_train, target_train, color=train_color, label='train')\n",
    "plt.plot(feature_test, reg.predict(feature_test))\n",
    "plt.plot(feature_train, reg.predict(feature_train), color=\"b\")\n",
    "plt.xlabel(features_list[1])\n",
    "plt.ylabel(features_list[0])\n",
    "plt.legend()\n",
    "plt.show()"
   ]
  },
  {
   "cell_type": "code",
   "execution_count": 38,
   "id": "c8a4b6e2-cc0b-409a-ac0b-33404923f610",
   "metadata": {},
   "outputs": [
    {
     "name": "stdout",
     "output_type": "stream",
     "text": [
      "98\n"
     ]
    }
   ],
   "source": [
    "# dropping row for 'THE TRAVEL AGENCY IN THE PARK'\n",
    "park_index = list(envron_data.keys()).index('THE TRAVEL AGENCY IN THE PARK')\n",
    "print(park_index)\n",
    "df_imp_sub = df_imp.drop(df_imp.index[[park_index]])"
   ]
  },
  {
   "cell_type": "code",
   "execution_count": 39,
   "id": "43610890-dcbf-432b-923e-6051b3b61398",
   "metadata": {},
   "outputs": [
    {
     "data": {
      "text/plain": [
       "{'salary': 'NaN',\n",
       " 'to_messages': 'NaN',\n",
       " 'deferral_payments': 'NaN',\n",
       " 'total_payments': 'NaN',\n",
       " 'loan_advances': 'NaN',\n",
       " 'bonus': 'NaN',\n",
       " 'email_address': 'NaN',\n",
       " 'restricted_stock_deferred': 'NaN',\n",
       " 'deferred_income': 'NaN',\n",
       " 'total_stock_value': 'NaN',\n",
       " 'expenses': 'NaN',\n",
       " 'from_poi_to_this_person': 'NaN',\n",
       " 'exercised_stock_options': 'NaN',\n",
       " 'from_messages': 'NaN',\n",
       " 'other': 'NaN',\n",
       " 'from_this_person_to_poi': 'NaN',\n",
       " 'poi': False,\n",
       " 'long_term_incentive': 'NaN',\n",
       " 'shared_receipt_with_poi': 'NaN',\n",
       " 'restricted_stock': 'NaN',\n",
       " 'director_fees': 'NaN'}"
      ]
     },
     "execution_count": 39,
     "metadata": {},
     "output_type": "execute_result"
    }
   ],
   "source": [
    "envron_data['LOCKHART EUGENE E']"
   ]
  },
  {
   "cell_type": "code",
   "execution_count": 40,
   "id": "4518b83d-d4f0-42a7-9f0c-807562e9ab5c",
   "metadata": {},
   "outputs": [
    {
     "data": {
      "text/html": [
       "<div>\n",
       "<style scoped>\n",
       "    .dataframe tbody tr th:only-of-type {\n",
       "        vertical-align: middle;\n",
       "    }\n",
       "\n",
       "    .dataframe tbody tr th {\n",
       "        vertical-align: top;\n",
       "    }\n",
       "\n",
       "    .dataframe thead th {\n",
       "        text-align: right;\n",
       "    }\n",
       "</style>\n",
       "<table border=\"1\" class=\"dataframe\">\n",
       "  <thead>\n",
       "    <tr style=\"text-align: right;\">\n",
       "      <th></th>\n",
       "      <th>salary</th>\n",
       "      <th>to_messages</th>\n",
       "      <th>total_payments</th>\n",
       "      <th>bonus</th>\n",
       "      <th>total_stock_value</th>\n",
       "      <th>expenses</th>\n",
       "      <th>from_poi_to_this_person</th>\n",
       "      <th>exercised_stock_options</th>\n",
       "      <th>from_messages</th>\n",
       "      <th>other</th>\n",
       "      <th>from_this_person_to_poi</th>\n",
       "      <th>poi</th>\n",
       "      <th>shared_receipt_with_poi</th>\n",
       "      <th>restricted_stock</th>\n",
       "    </tr>\n",
       "  </thead>\n",
       "  <tbody>\n",
       "    <tr>\n",
       "      <th>0</th>\n",
       "      <td>365788.0</td>\n",
       "      <td>807.0</td>\n",
       "      <td>1061827.0</td>\n",
       "      <td>600000.0</td>\n",
       "      <td>585062.0</td>\n",
       "      <td>94299.0</td>\n",
       "      <td>38.0</td>\n",
       "      <td>0.0</td>\n",
       "      <td>29.0</td>\n",
       "      <td>1740.0</td>\n",
       "      <td>1.0</td>\n",
       "      <td>False</td>\n",
       "      <td>702.0</td>\n",
       "      <td>585062.0</td>\n",
       "    </tr>\n",
       "    <tr>\n",
       "      <th>1</th>\n",
       "      <td>267102.0</td>\n",
       "      <td>0.0</td>\n",
       "      <td>5634343.0</td>\n",
       "      <td>1200000.0</td>\n",
       "      <td>10623258.0</td>\n",
       "      <td>11200.0</td>\n",
       "      <td>0.0</td>\n",
       "      <td>6680544.0</td>\n",
       "      <td>0.0</td>\n",
       "      <td>2660303.0</td>\n",
       "      <td>0.0</td>\n",
       "      <td>False</td>\n",
       "      <td>0.0</td>\n",
       "      <td>3942714.0</td>\n",
       "    </tr>\n",
       "    <tr>\n",
       "      <th>2</th>\n",
       "      <td>170941.0</td>\n",
       "      <td>0.0</td>\n",
       "      <td>211725.0</td>\n",
       "      <td>350000.0</td>\n",
       "      <td>6678735.0</td>\n",
       "      <td>78552.0</td>\n",
       "      <td>0.0</td>\n",
       "      <td>4890344.0</td>\n",
       "      <td>0.0</td>\n",
       "      <td>12961.0</td>\n",
       "      <td>0.0</td>\n",
       "      <td>False</td>\n",
       "      <td>0.0</td>\n",
       "      <td>1788391.0</td>\n",
       "    </tr>\n",
       "    <tr>\n",
       "      <th>3</th>\n",
       "      <td>0.0</td>\n",
       "      <td>764.0</td>\n",
       "      <td>0.0</td>\n",
       "      <td>0.0</td>\n",
       "      <td>1038185.0</td>\n",
       "      <td>0.0</td>\n",
       "      <td>10.0</td>\n",
       "      <td>651850.0</td>\n",
       "      <td>12.0</td>\n",
       "      <td>0.0</td>\n",
       "      <td>0.0</td>\n",
       "      <td>False</td>\n",
       "      <td>58.0</td>\n",
       "      <td>386335.0</td>\n",
       "    </tr>\n",
       "    <tr>\n",
       "      <th>4</th>\n",
       "      <td>243293.0</td>\n",
       "      <td>1045.0</td>\n",
       "      <td>288682.0</td>\n",
       "      <td>1500000.0</td>\n",
       "      <td>6391065.0</td>\n",
       "      <td>34039.0</td>\n",
       "      <td>32.0</td>\n",
       "      <td>5538001.0</td>\n",
       "      <td>32.0</td>\n",
       "      <td>11350.0</td>\n",
       "      <td>21.0</td>\n",
       "      <td>True</td>\n",
       "      <td>1035.0</td>\n",
       "      <td>853064.0</td>\n",
       "    </tr>\n",
       "  </tbody>\n",
       "</table>\n",
       "</div>"
      ],
      "text/plain": [
       "     salary  to_messages  total_payments      bonus  total_stock_value  \\\n",
       "0  365788.0        807.0       1061827.0   600000.0           585062.0   \n",
       "1  267102.0          0.0       5634343.0  1200000.0         10623258.0   \n",
       "2  170941.0          0.0        211725.0   350000.0          6678735.0   \n",
       "3       0.0        764.0             0.0        0.0          1038185.0   \n",
       "4  243293.0       1045.0        288682.0  1500000.0          6391065.0   \n",
       "\n",
       "   expenses  from_poi_to_this_person  exercised_stock_options  from_messages  \\\n",
       "0   94299.0                     38.0                      0.0           29.0   \n",
       "1   11200.0                      0.0                6680544.0            0.0   \n",
       "2   78552.0                      0.0                4890344.0            0.0   \n",
       "3       0.0                     10.0                 651850.0           12.0   \n",
       "4   34039.0                     32.0                5538001.0           32.0   \n",
       "\n",
       "       other  from_this_person_to_poi    poi  shared_receipt_with_poi  \\\n",
       "0     1740.0                      1.0  False                    702.0   \n",
       "1  2660303.0                      0.0  False                      0.0   \n",
       "2    12961.0                      0.0  False                      0.0   \n",
       "3        0.0                      0.0  False                     58.0   \n",
       "4    11350.0                     21.0   True                   1035.0   \n",
       "\n",
       "   restricted_stock  \n",
       "0          585062.0  \n",
       "1         3942714.0  \n",
       "2         1788391.0  \n",
       "3          386335.0  \n",
       "4          853064.0  "
      ]
     },
     "execution_count": 40,
     "metadata": {},
     "output_type": "execute_result"
    }
   ],
   "source": [
    "df_imp_sub.head(5)"
   ]
  },
  {
   "cell_type": "code",
   "execution_count": 41,
   "id": "1eb82d06-58c3-4f77-9838-28fe4af3302b",
   "metadata": {},
   "outputs": [
    {
     "name": "stdout",
     "output_type": "stream",
     "text": [
      "89\n"
     ]
    }
   ],
   "source": [
    "# droping row for 'LOCKHART EUGENE E'\n",
    "lockhart_index = list(envron_data.keys()).index('LOCKHART EUGENE E')\n",
    "print(lockhart_index)"
   ]
  },
  {
   "cell_type": "code",
   "execution_count": 42,
   "id": "adf5013d-2100-47d8-9569-60c55bfd23d2",
   "metadata": {},
   "outputs": [],
   "source": [
    "df_imp_sub = df_imp.drop(df_imp.index[[park_index]])"
   ]
  },
  {
   "cell_type": "code",
   "execution_count": 43,
   "id": "2c5b4f2f-94d9-4f9c-89e7-27677fda1b03",
   "metadata": {},
   "outputs": [
    {
     "data": {
      "text/html": [
       "<div>\n",
       "<style scoped>\n",
       "    .dataframe tbody tr th:only-of-type {\n",
       "        vertical-align: middle;\n",
       "    }\n",
       "\n",
       "    .dataframe tbody tr th {\n",
       "        vertical-align: top;\n",
       "    }\n",
       "\n",
       "    .dataframe thead th {\n",
       "        text-align: right;\n",
       "    }\n",
       "</style>\n",
       "<table border=\"1\" class=\"dataframe\">\n",
       "  <thead>\n",
       "    <tr style=\"text-align: right;\">\n",
       "      <th></th>\n",
       "      <th>salary</th>\n",
       "      <th>to_messages</th>\n",
       "      <th>total_payments</th>\n",
       "      <th>bonus</th>\n",
       "      <th>total_stock_value</th>\n",
       "      <th>expenses</th>\n",
       "      <th>from_poi_to_this_person</th>\n",
       "      <th>exercised_stock_options</th>\n",
       "      <th>from_messages</th>\n",
       "      <th>other</th>\n",
       "      <th>from_this_person_to_poi</th>\n",
       "      <th>poi</th>\n",
       "      <th>shared_receipt_with_poi</th>\n",
       "      <th>restricted_stock</th>\n",
       "    </tr>\n",
       "  </thead>\n",
       "  <tbody>\n",
       "    <tr>\n",
       "      <th>0</th>\n",
       "      <td>365788.0</td>\n",
       "      <td>807.0</td>\n",
       "      <td>1061827.0</td>\n",
       "      <td>600000.0</td>\n",
       "      <td>585062.0</td>\n",
       "      <td>94299.0</td>\n",
       "      <td>38.0</td>\n",
       "      <td>0.0</td>\n",
       "      <td>29.0</td>\n",
       "      <td>1740.0</td>\n",
       "      <td>1.0</td>\n",
       "      <td>False</td>\n",
       "      <td>702.0</td>\n",
       "      <td>585062.0</td>\n",
       "    </tr>\n",
       "    <tr>\n",
       "      <th>1</th>\n",
       "      <td>267102.0</td>\n",
       "      <td>0.0</td>\n",
       "      <td>5634343.0</td>\n",
       "      <td>1200000.0</td>\n",
       "      <td>10623258.0</td>\n",
       "      <td>11200.0</td>\n",
       "      <td>0.0</td>\n",
       "      <td>6680544.0</td>\n",
       "      <td>0.0</td>\n",
       "      <td>2660303.0</td>\n",
       "      <td>0.0</td>\n",
       "      <td>False</td>\n",
       "      <td>0.0</td>\n",
       "      <td>3942714.0</td>\n",
       "    </tr>\n",
       "    <tr>\n",
       "      <th>2</th>\n",
       "      <td>170941.0</td>\n",
       "      <td>0.0</td>\n",
       "      <td>211725.0</td>\n",
       "      <td>350000.0</td>\n",
       "      <td>6678735.0</td>\n",
       "      <td>78552.0</td>\n",
       "      <td>0.0</td>\n",
       "      <td>4890344.0</td>\n",
       "      <td>0.0</td>\n",
       "      <td>12961.0</td>\n",
       "      <td>0.0</td>\n",
       "      <td>False</td>\n",
       "      <td>0.0</td>\n",
       "      <td>1788391.0</td>\n",
       "    </tr>\n",
       "    <tr>\n",
       "      <th>3</th>\n",
       "      <td>0.0</td>\n",
       "      <td>764.0</td>\n",
       "      <td>0.0</td>\n",
       "      <td>0.0</td>\n",
       "      <td>1038185.0</td>\n",
       "      <td>0.0</td>\n",
       "      <td>10.0</td>\n",
       "      <td>651850.0</td>\n",
       "      <td>12.0</td>\n",
       "      <td>0.0</td>\n",
       "      <td>0.0</td>\n",
       "      <td>False</td>\n",
       "      <td>58.0</td>\n",
       "      <td>386335.0</td>\n",
       "    </tr>\n",
       "    <tr>\n",
       "      <th>4</th>\n",
       "      <td>243293.0</td>\n",
       "      <td>1045.0</td>\n",
       "      <td>288682.0</td>\n",
       "      <td>1500000.0</td>\n",
       "      <td>6391065.0</td>\n",
       "      <td>34039.0</td>\n",
       "      <td>32.0</td>\n",
       "      <td>5538001.0</td>\n",
       "      <td>32.0</td>\n",
       "      <td>11350.0</td>\n",
       "      <td>21.0</td>\n",
       "      <td>True</td>\n",
       "      <td>1035.0</td>\n",
       "      <td>853064.0</td>\n",
       "    </tr>\n",
       "  </tbody>\n",
       "</table>\n",
       "</div>"
      ],
      "text/plain": [
       "     salary  to_messages  total_payments      bonus  total_stock_value  \\\n",
       "0  365788.0        807.0       1061827.0   600000.0           585062.0   \n",
       "1  267102.0          0.0       5634343.0  1200000.0         10623258.0   \n",
       "2  170941.0          0.0        211725.0   350000.0          6678735.0   \n",
       "3       0.0        764.0             0.0        0.0          1038185.0   \n",
       "4  243293.0       1045.0        288682.0  1500000.0          6391065.0   \n",
       "\n",
       "   expenses  from_poi_to_this_person  exercised_stock_options  from_messages  \\\n",
       "0   94299.0                     38.0                      0.0           29.0   \n",
       "1   11200.0                      0.0                6680544.0            0.0   \n",
       "2   78552.0                      0.0                4890344.0            0.0   \n",
       "3       0.0                     10.0                 651850.0           12.0   \n",
       "4   34039.0                     32.0                5538001.0           32.0   \n",
       "\n",
       "       other  from_this_person_to_poi    poi  shared_receipt_with_poi  \\\n",
       "0     1740.0                      1.0  False                    702.0   \n",
       "1  2660303.0                      0.0  False                      0.0   \n",
       "2    12961.0                      0.0  False                      0.0   \n",
       "3        0.0                      0.0  False                     58.0   \n",
       "4    11350.0                     21.0   True                   1035.0   \n",
       "\n",
       "   restricted_stock  \n",
       "0          585062.0  \n",
       "1         3942714.0  \n",
       "2         1788391.0  \n",
       "3          386335.0  \n",
       "4          853064.0  "
      ]
     },
     "execution_count": 43,
     "metadata": {},
     "output_type": "execute_result"
    }
   ],
   "source": [
    "df_imp_sub.head(5)"
   ]
  },
  {
   "cell_type": "code",
   "execution_count": 44,
   "id": "519ffdc2-7076-4f3a-9877-7205f38fae47",
   "metadata": {},
   "outputs": [],
   "source": [
    "# Optimize Feature Selection/ Engineering\n",
    "enron_df = df_imp_sub"
   ]
  },
  {
   "cell_type": "code",
   "execution_count": 45,
   "id": "99fd3f6c-cf9b-42d5-9813-80a1fec6d78e",
   "metadata": {},
   "outputs": [
    {
     "data": {
      "image/png": "[encoded data removed]",
      "text/plain": [
       "<Figure size 640x480 with 1 Axes>"
      ]
     },
     "metadata": {},
     "output_type": "display_data"
    }
   ],
   "source": [
    "import matplotlib.pyplot as plt\n",
    "plt.scatter (enron_df['salary'], enron_df['total_payments'])\n",
    "plt.xlabel('salary')\n",
    "plt.ylabel('total payments')\n",
    "plt.title('Chart of \"Total Payments\"')\n",
    "plt.show()"
   ]
  },
  {
   "cell_type": "code",
   "execution_count": 46,
   "id": "f383ead8-f041-44cd-bf8f-ea4012c56d10",
   "metadata": {},
   "outputs": [
    {
     "data": {
      "image/png": "[encoded data removed]",
      "text/plain": [
       "<Figure size 640x480 with 1 Axes>"
      ]
     },
     "metadata": {},
     "output_type": "display_data"
    }
   ],
   "source": [
    "import matplotlib.pyplot as plt\n",
    "plt.scatter (enron_df['salary'], enron_df['total_stock_value'])\n",
    "plt.xlabel('salary')\n",
    "plt.ylabel('total stock value')\n",
    "plt.title('Chart of \"Total Stock Value\"')\n",
    "plt.show()"
   ]
  },
  {
   "cell_type": "code",
   "execution_count": 47,
   "id": "e786a03e-9c51-4d10-bc0d-cc7112474d05",
   "metadata": {},
   "outputs": [
    {
     "data": {
      "text/html": [
       "<div>\n",
       "<style scoped>\n",
       "    .dataframe tbody tr th:only-of-type {\n",
       "        vertical-align: middle;\n",
       "    }\n",
       "\n",
       "    .dataframe tbody tr th {\n",
       "        vertical-align: top;\n",
       "    }\n",
       "\n",
       "    .dataframe thead th {\n",
       "        text-align: right;\n",
       "    }\n",
       "</style>\n",
       "<table border=\"1\" class=\"dataframe\">\n",
       "  <thead>\n",
       "    <tr style=\"text-align: right;\">\n",
       "      <th></th>\n",
       "      <th>salary</th>\n",
       "      <th>to_messages</th>\n",
       "      <th>total_payments</th>\n",
       "      <th>bonus</th>\n",
       "      <th>total_stock_value</th>\n",
       "      <th>expenses</th>\n",
       "      <th>from_poi_to_this_person</th>\n",
       "      <th>exercised_stock_options</th>\n",
       "      <th>from_messages</th>\n",
       "      <th>other</th>\n",
       "      <th>from_this_person_to_poi</th>\n",
       "      <th>poi</th>\n",
       "      <th>shared_receipt_with_poi</th>\n",
       "      <th>restricted_stock</th>\n",
       "    </tr>\n",
       "  </thead>\n",
       "  <tbody>\n",
       "  </tbody>\n",
       "</table>\n",
       "</div>"
      ],
      "text/plain": [
       "Empty DataFrame\n",
       "Columns: [salary, to_messages, total_payments, bonus, total_stock_value, expenses, from_poi_to_this_person, exercised_stock_options, from_messages, other, from_this_person_to_poi, poi, shared_receipt_with_poi, restricted_stock]\n",
       "Index: []"
      ]
     },
     "execution_count": 47,
     "metadata": {},
     "output_type": "execute_result"
    }
   ],
   "source": [
    "enron_df[enron_df['total_stock_value'].isnull()]"
   ]
  },
  {
   "cell_type": "code",
   "execution_count": 48,
   "id": "d5483ea0-f872-4d06-9725-ac15e4dc7606",
   "metadata": {},
   "outputs": [],
   "source": [
    "\"\"\" Creating new features 'salary_of_total_payments' and \"\"\"\n",
    "\"\"\" 'salary_of_total_stock' \"\"\"\n",
    "\n",
    "enron_df['salary_of_total_payments'] = 0.0\n",
    "enron_df['salary_of_total_stock_value'] = 0.0\n",
    "enron_df.loc[enron_df['total_payments'] != 0.0, 'salary_of_total_payments'] = enron_df['salary']/enron_df['total_payments']*100\n",
    "enron_df.loc[enron_df['total_stock_value'] !=0, 'salary_of_total_stock_value'] = enron_df['salary']/enron_df['total_stock_value']*100"
   ]
  },
  {
   "cell_type": "code",
   "execution_count": 49,
   "id": "fa741ad9-0d80-48a2-b0c5-148a05c19dd7",
   "metadata": {},
   "outputs": [
    {
     "data": {
      "text/html": [
       "<div>\n",
       "<style scoped>\n",
       "    .dataframe tbody tr th:only-of-type {\n",
       "        vertical-align: middle;\n",
       "    }\n",
       "\n",
       "    .dataframe tbody tr th {\n",
       "        vertical-align: top;\n",
       "    }\n",
       "\n",
       "    .dataframe thead th {\n",
       "        text-align: right;\n",
       "    }\n",
       "</style>\n",
       "<table border=\"1\" class=\"dataframe\">\n",
       "  <thead>\n",
       "    <tr style=\"text-align: right;\">\n",
       "      <th></th>\n",
       "      <th>salary</th>\n",
       "      <th>to_messages</th>\n",
       "      <th>total_payments</th>\n",
       "      <th>bonus</th>\n",
       "      <th>total_stock_value</th>\n",
       "      <th>expenses</th>\n",
       "      <th>from_poi_to_this_person</th>\n",
       "      <th>exercised_stock_options</th>\n",
       "      <th>from_messages</th>\n",
       "      <th>other</th>\n",
       "      <th>from_this_person_to_poi</th>\n",
       "      <th>poi</th>\n",
       "      <th>shared_receipt_with_poi</th>\n",
       "      <th>restricted_stock</th>\n",
       "      <th>salary_of_total_payments</th>\n",
       "      <th>salary_of_total_stock_value</th>\n",
       "    </tr>\n",
       "  </thead>\n",
       "  <tbody>\n",
       "    <tr>\n",
       "      <th>0</th>\n",
       "      <td>365788.0</td>\n",
       "      <td>807.0</td>\n",
       "      <td>1061827.0</td>\n",
       "      <td>600000.0</td>\n",
       "      <td>585062.0</td>\n",
       "      <td>94299.0</td>\n",
       "      <td>38.0</td>\n",
       "      <td>0.0</td>\n",
       "      <td>29.0</td>\n",
       "      <td>1740.0</td>\n",
       "      <td>1.0</td>\n",
       "      <td>False</td>\n",
       "      <td>702.0</td>\n",
       "      <td>585062.0</td>\n",
       "      <td>34.448926</td>\n",
       "      <td>62.521237</td>\n",
       "    </tr>\n",
       "    <tr>\n",
       "      <th>1</th>\n",
       "      <td>267102.0</td>\n",
       "      <td>0.0</td>\n",
       "      <td>5634343.0</td>\n",
       "      <td>1200000.0</td>\n",
       "      <td>10623258.0</td>\n",
       "      <td>11200.0</td>\n",
       "      <td>0.0</td>\n",
       "      <td>6680544.0</td>\n",
       "      <td>0.0</td>\n",
       "      <td>2660303.0</td>\n",
       "      <td>0.0</td>\n",
       "      <td>False</td>\n",
       "      <td>0.0</td>\n",
       "      <td>3942714.0</td>\n",
       "      <td>4.740606</td>\n",
       "      <td>2.514313</td>\n",
       "    </tr>\n",
       "    <tr>\n",
       "      <th>2</th>\n",
       "      <td>170941.0</td>\n",
       "      <td>0.0</td>\n",
       "      <td>211725.0</td>\n",
       "      <td>350000.0</td>\n",
       "      <td>6678735.0</td>\n",
       "      <td>78552.0</td>\n",
       "      <td>0.0</td>\n",
       "      <td>4890344.0</td>\n",
       "      <td>0.0</td>\n",
       "      <td>12961.0</td>\n",
       "      <td>0.0</td>\n",
       "      <td>False</td>\n",
       "      <td>0.0</td>\n",
       "      <td>1788391.0</td>\n",
       "      <td>80.737277</td>\n",
       "      <td>2.559482</td>\n",
       "    </tr>\n",
       "    <tr>\n",
       "      <th>3</th>\n",
       "      <td>0.0</td>\n",
       "      <td>764.0</td>\n",
       "      <td>0.0</td>\n",
       "      <td>0.0</td>\n",
       "      <td>1038185.0</td>\n",
       "      <td>0.0</td>\n",
       "      <td>10.0</td>\n",
       "      <td>651850.0</td>\n",
       "      <td>12.0</td>\n",
       "      <td>0.0</td>\n",
       "      <td>0.0</td>\n",
       "      <td>False</td>\n",
       "      <td>58.0</td>\n",
       "      <td>386335.0</td>\n",
       "      <td>0.000000</td>\n",
       "      <td>0.000000</td>\n",
       "    </tr>\n",
       "    <tr>\n",
       "      <th>4</th>\n",
       "      <td>243293.0</td>\n",
       "      <td>1045.0</td>\n",
       "      <td>288682.0</td>\n",
       "      <td>1500000.0</td>\n",
       "      <td>6391065.0</td>\n",
       "      <td>34039.0</td>\n",
       "      <td>32.0</td>\n",
       "      <td>5538001.0</td>\n",
       "      <td>32.0</td>\n",
       "      <td>11350.0</td>\n",
       "      <td>21.0</td>\n",
       "      <td>True</td>\n",
       "      <td>1035.0</td>\n",
       "      <td>853064.0</td>\n",
       "      <td>84.277163</td>\n",
       "      <td>3.806768</td>\n",
       "    </tr>\n",
       "  </tbody>\n",
       "</table>\n",
       "</div>"
      ],
      "text/plain": [
       "     salary  to_messages  total_payments      bonus  total_stock_value  \\\n",
       "0  365788.0        807.0       1061827.0   600000.0           585062.0   \n",
       "1  267102.0          0.0       5634343.0  1200000.0         10623258.0   \n",
       "2  170941.0          0.0        211725.0   350000.0          6678735.0   \n",
       "3       0.0        764.0             0.0        0.0          1038185.0   \n",
       "4  243293.0       1045.0        288682.0  1500000.0          6391065.0   \n",
       "\n",
       "   expenses  from_poi_to_this_person  exercised_stock_options  from_messages  \\\n",
       "0   94299.0                     38.0                      0.0           29.0   \n",
       "1   11200.0                      0.0                6680544.0            0.0   \n",
       "2   78552.0                      0.0                4890344.0            0.0   \n",
       "3       0.0                     10.0                 651850.0           12.0   \n",
       "4   34039.0                     32.0                5538001.0           32.0   \n",
       "\n",
       "       other  from_this_person_to_poi    poi  shared_receipt_with_poi  \\\n",
       "0     1740.0                      1.0  False                    702.0   \n",
       "1  2660303.0                      0.0  False                      0.0   \n",
       "2    12961.0                      0.0  False                      0.0   \n",
       "3        0.0                      0.0  False                     58.0   \n",
       "4    11350.0                     21.0   True                   1035.0   \n",
       "\n",
       "   restricted_stock  salary_of_total_payments  salary_of_total_stock_value  \n",
       "0          585062.0                 34.448926                    62.521237  \n",
       "1         3942714.0                  4.740606                     2.514313  \n",
       "2         1788391.0                 80.737277                     2.559482  \n",
       "3          386335.0                  0.000000                     0.000000  \n",
       "4          853064.0                 84.277163                     3.806768  "
      ]
     },
     "execution_count": 49,
     "metadata": {},
     "output_type": "execute_result"
    }
   ],
   "source": [
    "enron_df.head(5)"
   ]
  },
  {
   "cell_type": "code",
   "execution_count": 50,
   "id": "39f432da-e185-4e5c-84a9-fcdbee944016",
   "metadata": {},
   "outputs": [
    {
     "data": {
      "image/png": "[encoded data removed]",
      "text/plain": [
       "<Figure size 640x480 with 1 Axes>"
      ]
     },
     "metadata": {},
     "output_type": "display_data"
    }
   ],
   "source": [
    "# Graph 'salary_of_total_payment' and 'salary_of_total_stock_value' to\n",
    "# salary\n",
    "plt.scatter(enron_df['salary'], enron_df['salary_of_total_payments'], color='blue')\n",
    "plt.scatter(enron_df['salary'], enron_df['salary_of_total_stock_value'], color='red')\n",
    "plt.xlabel('Salary')\n",
    "plt.ylabel('Total of payments/ total of stock value')\n",
    "plt.show()"
   ]
  },
  {
   "cell_type": "code",
   "execution_count": 51,
   "id": "cb45c8ba-bd2d-4214-84c3-3f4cb61d5682",
   "metadata": {},
   "outputs": [],
   "source": [
    "## creating new features for email related features.\n",
    "def outlierCleaner(predictions, ages, net_worths):\n",
    "    cleaned_data= []\n",
    "    for i in range(0, len(predictions)):\n",
    "        age = ages[i][0]\n",
    "        new_worth = net_worths[i][0]\n",
    "        pred = predictions[i][0]\n",
    "        err = net_worth - pred\n",
    "        cleaned_data.append((age, net_worth, err))\n",
    "        \n",
    "    cleaned_data = sorted(cleaned_data, key=lambda x: x[2], reverse=True)\n",
    "    print('length of cleaned_data: ', len(cleaned_data))\n",
    "    return cleaned_data"
   ]
  },
  {
   "cell_type": "code",
   "execution_count": 52,
   "id": "da6d05eb-48d6-4089-a17a-ac8acf5a19ff",
   "metadata": {},
   "outputs": [],
   "source": [
    "enron_df['poi_ratio']=0.0\n",
    "enron_df['fraction_to_poi']=0.0\n",
    "enron_df['fraction_from_poi']=0.0\n",
    "\n",
    "enron_df.loc[(enron_df['from_messages'] + enron_df['to_messages']) != 0.0, 'poi_ratio'] = (enron_df['from_poi_to_this_person'] \\\n",
    "         + enron_df['from_this_person_to_poi'])/(enron_df['from_messages'] + enron_df['to_messages'])*100\n",
    "enron_df.loc[enron_df['from_messages'] != 0.0, 'fraction_to_poi'] = enron_df['from_this_person_to_poi']/enron_df['from_messages']*100\n",
    "enron_df.loc[enron_df['to_messages'] != 0.0, 'fraction_from_pi'] = enron_df['from_poi_to_this_person']/enron_df['to_messages']*100"
   ]
  },
  {
   "cell_type": "code",
   "execution_count": 53,
   "id": "cff44a9c-4c02-46b1-8ff2-e4f73903762a",
   "metadata": {},
   "outputs": [
    {
     "data": {
      "image/png": "[encoded data removed]",
      "text/plain": [
       "<Figure size 640x480 with 1 Axes>"
      ]
     },
     "metadata": {},
     "output_type": "display_data"
    }
   ],
   "source": [
    "# Graph 'fraction_to_poi' and 'fraction_from_poi' to salary\n",
    "plt.scatter(enron_df['salary'], enron_df['fraction_to_poi'], color='blue')\n",
    "plt.scatter(enron_df['salary'], enron_df['fraction_from_poi'], color='red')\n",
    "plt.xlabel('Salary')\n",
    "plt.ylabel('Fraction')\n",
    "plt.show()"
   ]
  },
  {
   "cell_type": "code",
   "execution_count": 54,
   "id": "cc6689c4-bcde-4ceb-867c-b64e68088043",
   "metadata": {},
   "outputs": [],
   "source": [
    "# Moving 'poi' to the first column\n",
    "cols = enron_df.columns.tolist()\n",
    "cols = cols[7:8] + cols[:7] + cols[8:]\n",
    "enron_df = enron_df[cols]"
   ]
  },
  {
   "cell_type": "code",
   "execution_count": 55,
   "id": "86f8c10c-426a-4b56-9c65-7d0b7ec00e04",
   "metadata": {},
   "outputs": [
    {
     "data": {
      "text/plain": [
       "array(['exercised_stock_options', 'salary', 'to_messages',\n",
       "       'total_payments', 'bonus', 'total_stock_value', 'expenses',\n",
       "       'from_poi_to_this_person', 'from_messages', 'other',\n",
       "       'from_this_person_to_poi', 'poi', 'shared_receipt_with_poi',\n",
       "       'restricted_stock', 'salary_of_total_payments',\n",
       "       'salary_of_total_stock_value', 'poi_ratio', 'fraction_to_poi',\n",
       "       'fraction_from_poi', 'fraction_from_pi'], dtype=object)"
      ]
     },
     "execution_count": 55,
     "metadata": {},
     "output_type": "execute_result"
    }
   ],
   "source": [
    "enron_df.columns.values"
   ]
  },
  {
   "cell_type": "code",
   "execution_count": 56,
   "id": "d235ad8b-2be3-4b21-9ffb-38506993bcf5",
   "metadata": {},
   "outputs": [
    {
     "data": {
      "text/html": [
       "<div>\n",
       "<style scoped>\n",
       "    .dataframe tbody tr th:only-of-type {\n",
       "        vertical-align: middle;\n",
       "    }\n",
       "\n",
       "    .dataframe tbody tr th {\n",
       "        vertical-align: top;\n",
       "    }\n",
       "\n",
       "    .dataframe thead th {\n",
       "        text-align: right;\n",
       "    }\n",
       "</style>\n",
       "<table border=\"1\" class=\"dataframe\">\n",
       "  <thead>\n",
       "    <tr style=\"text-align: right;\">\n",
       "      <th></th>\n",
       "      <th>exercised_stock_options</th>\n",
       "      <th>salary</th>\n",
       "      <th>to_messages</th>\n",
       "      <th>total_payments</th>\n",
       "      <th>bonus</th>\n",
       "      <th>total_stock_value</th>\n",
       "      <th>expenses</th>\n",
       "      <th>from_poi_to_this_person</th>\n",
       "      <th>from_messages</th>\n",
       "      <th>other</th>\n",
       "      <th>from_this_person_to_poi</th>\n",
       "      <th>poi</th>\n",
       "      <th>shared_receipt_with_poi</th>\n",
       "      <th>restricted_stock</th>\n",
       "      <th>salary_of_total_payments</th>\n",
       "      <th>salary_of_total_stock_value</th>\n",
       "      <th>poi_ratio</th>\n",
       "      <th>fraction_to_poi</th>\n",
       "      <th>fraction_from_poi</th>\n",
       "      <th>fraction_from_pi</th>\n",
       "    </tr>\n",
       "  </thead>\n",
       "  <tbody>\n",
       "    <tr>\n",
       "      <th>0</th>\n",
       "      <td>0.0</td>\n",
       "      <td>365788.0</td>\n",
       "      <td>807.0</td>\n",
       "      <td>1061827.0</td>\n",
       "      <td>600000.0</td>\n",
       "      <td>585062.0</td>\n",
       "      <td>94299.0</td>\n",
       "      <td>38.0</td>\n",
       "      <td>29.0</td>\n",
       "      <td>1740.0</td>\n",
       "      <td>1.0</td>\n",
       "      <td>False</td>\n",
       "      <td>702.0</td>\n",
       "      <td>585062.0</td>\n",
       "      <td>34.448926</td>\n",
       "      <td>62.521237</td>\n",
       "      <td>4.665072</td>\n",
       "      <td>3.448276</td>\n",
       "      <td>0.0</td>\n",
       "      <td>4.708798</td>\n",
       "    </tr>\n",
       "    <tr>\n",
       "      <th>1</th>\n",
       "      <td>6680544.0</td>\n",
       "      <td>267102.0</td>\n",
       "      <td>0.0</td>\n",
       "      <td>5634343.0</td>\n",
       "      <td>1200000.0</td>\n",
       "      <td>10623258.0</td>\n",
       "      <td>11200.0</td>\n",
       "      <td>0.0</td>\n",
       "      <td>0.0</td>\n",
       "      <td>2660303.0</td>\n",
       "      <td>0.0</td>\n",
       "      <td>False</td>\n",
       "      <td>0.0</td>\n",
       "      <td>3942714.0</td>\n",
       "      <td>4.740606</td>\n",
       "      <td>2.514313</td>\n",
       "      <td>0.000000</td>\n",
       "      <td>0.000000</td>\n",
       "      <td>0.0</td>\n",
       "      <td>NaN</td>\n",
       "    </tr>\n",
       "    <tr>\n",
       "      <th>2</th>\n",
       "      <td>4890344.0</td>\n",
       "      <td>170941.0</td>\n",
       "      <td>0.0</td>\n",
       "      <td>211725.0</td>\n",
       "      <td>350000.0</td>\n",
       "      <td>6678735.0</td>\n",
       "      <td>78552.0</td>\n",
       "      <td>0.0</td>\n",
       "      <td>0.0</td>\n",
       "      <td>12961.0</td>\n",
       "      <td>0.0</td>\n",
       "      <td>False</td>\n",
       "      <td>0.0</td>\n",
       "      <td>1788391.0</td>\n",
       "      <td>80.737277</td>\n",
       "      <td>2.559482</td>\n",
       "      <td>0.000000</td>\n",
       "      <td>0.000000</td>\n",
       "      <td>0.0</td>\n",
       "      <td>NaN</td>\n",
       "    </tr>\n",
       "    <tr>\n",
       "      <th>3</th>\n",
       "      <td>651850.0</td>\n",
       "      <td>0.0</td>\n",
       "      <td>764.0</td>\n",
       "      <td>0.0</td>\n",
       "      <td>0.0</td>\n",
       "      <td>1038185.0</td>\n",
       "      <td>0.0</td>\n",
       "      <td>10.0</td>\n",
       "      <td>12.0</td>\n",
       "      <td>0.0</td>\n",
       "      <td>0.0</td>\n",
       "      <td>False</td>\n",
       "      <td>58.0</td>\n",
       "      <td>386335.0</td>\n",
       "      <td>0.000000</td>\n",
       "      <td>0.000000</td>\n",
       "      <td>1.288660</td>\n",
       "      <td>0.000000</td>\n",
       "      <td>0.0</td>\n",
       "      <td>1.308901</td>\n",
       "    </tr>\n",
       "    <tr>\n",
       "      <th>4</th>\n",
       "      <td>5538001.0</td>\n",
       "      <td>243293.0</td>\n",
       "      <td>1045.0</td>\n",
       "      <td>288682.0</td>\n",
       "      <td>1500000.0</td>\n",
       "      <td>6391065.0</td>\n",
       "      <td>34039.0</td>\n",
       "      <td>32.0</td>\n",
       "      <td>32.0</td>\n",
       "      <td>11350.0</td>\n",
       "      <td>21.0</td>\n",
       "      <td>True</td>\n",
       "      <td>1035.0</td>\n",
       "      <td>853064.0</td>\n",
       "      <td>84.277163</td>\n",
       "      <td>3.806768</td>\n",
       "      <td>4.921077</td>\n",
       "      <td>65.625000</td>\n",
       "      <td>0.0</td>\n",
       "      <td>3.062201</td>\n",
       "    </tr>\n",
       "  </tbody>\n",
       "</table>\n",
       "</div>"
      ],
      "text/plain": [
       "   exercised_stock_options    salary  to_messages  total_payments      bonus  \\\n",
       "0                      0.0  365788.0        807.0       1061827.0   600000.0   \n",
       "1                6680544.0  267102.0          0.0       5634343.0  1200000.0   \n",
       "2                4890344.0  170941.0          0.0        211725.0   350000.0   \n",
       "3                 651850.0       0.0        764.0             0.0        0.0   \n",
       "4                5538001.0  243293.0       1045.0        288682.0  1500000.0   \n",
       "\n",
       "   total_stock_value  expenses  from_poi_to_this_person  from_messages  \\\n",
       "0           585062.0   94299.0                     38.0           29.0   \n",
       "1         10623258.0   11200.0                      0.0            0.0   \n",
       "2          6678735.0   78552.0                      0.0            0.0   \n",
       "3          1038185.0       0.0                     10.0           12.0   \n",
       "4          6391065.0   34039.0                     32.0           32.0   \n",
       "\n",
       "       other  from_this_person_to_poi    poi  shared_receipt_with_poi  \\\n",
       "0     1740.0                      1.0  False                    702.0   \n",
       "1  2660303.0                      0.0  False                      0.0   \n",
       "2    12961.0                      0.0  False                      0.0   \n",
       "3        0.0                      0.0  False                     58.0   \n",
       "4    11350.0                     21.0   True                   1035.0   \n",
       "\n",
       "   restricted_stock  salary_of_total_payments  salary_of_total_stock_value  \\\n",
       "0          585062.0                 34.448926                    62.521237   \n",
       "1         3942714.0                  4.740606                     2.514313   \n",
       "2         1788391.0                 80.737277                     2.559482   \n",
       "3          386335.0                  0.000000                     0.000000   \n",
       "4          853064.0                 84.277163                     3.806768   \n",
       "\n",
       "   poi_ratio  fraction_to_poi  fraction_from_poi  fraction_from_pi  \n",
       "0   4.665072         3.448276                0.0          4.708798  \n",
       "1   0.000000         0.000000                0.0               NaN  \n",
       "2   0.000000         0.000000                0.0               NaN  \n",
       "3   1.288660         0.000000                0.0          1.308901  \n",
       "4   4.921077        65.625000                0.0          3.062201  "
      ]
     },
     "execution_count": 56,
     "metadata": {},
     "output_type": "execute_result"
    }
   ],
   "source": [
    "enron_df.head(5)"
   ]
  },
  {
   "cell_type": "code",
   "execution_count": 57,
   "id": "e773e4ff-0485-4cbf-97ba-bcf260e95803",
   "metadata": {},
   "outputs": [
    {
     "data": {
      "text/html": [
       "<div>\n",
       "<style scoped>\n",
       "    .dataframe tbody tr th:only-of-type {\n",
       "        vertical-align: middle;\n",
       "    }\n",
       "\n",
       "    .dataframe tbody tr th {\n",
       "        vertical-align: top;\n",
       "    }\n",
       "\n",
       "    .dataframe thead th {\n",
       "        text-align: right;\n",
       "    }\n",
       "</style>\n",
       "<table border=\"1\" class=\"dataframe\">\n",
       "  <thead>\n",
       "    <tr style=\"text-align: right;\">\n",
       "      <th></th>\n",
       "      <th>exercised_stock_options</th>\n",
       "      <th>salary</th>\n",
       "      <th>to_messages</th>\n",
       "      <th>total_payments</th>\n",
       "      <th>bonus</th>\n",
       "      <th>total_stock_value</th>\n",
       "      <th>expenses</th>\n",
       "      <th>from_poi_to_this_person</th>\n",
       "      <th>from_messages</th>\n",
       "      <th>other</th>\n",
       "      <th>from_this_person_to_poi</th>\n",
       "      <th>shared_receipt_with_poi</th>\n",
       "      <th>restricted_stock</th>\n",
       "      <th>salary_of_total_payments</th>\n",
       "      <th>salary_of_total_stock_value</th>\n",
       "      <th>poi_ratio</th>\n",
       "      <th>fraction_to_poi</th>\n",
       "      <th>fraction_from_poi</th>\n",
       "      <th>fraction_from_pi</th>\n",
       "    </tr>\n",
       "  </thead>\n",
       "  <tbody>\n",
       "    <tr>\n",
       "      <th>count</th>\n",
       "      <td>1.420000e+02</td>\n",
       "      <td>1.420000e+02</td>\n",
       "      <td>142.000000</td>\n",
       "      <td>1.420000e+02</td>\n",
       "      <td>1.420000e+02</td>\n",
       "      <td>1.420000e+02</td>\n",
       "      <td>142.000000</td>\n",
       "      <td>142.000000</td>\n",
       "      <td>142.000000</td>\n",
       "      <td>1.420000e+02</td>\n",
       "      <td>142.000000</td>\n",
       "      <td>142.000000</td>\n",
       "      <td>1.420000e+02</td>\n",
       "      <td>142.000000</td>\n",
       "      <td>142.000000</td>\n",
       "      <td>142.000000</td>\n",
       "      <td>142.000000</td>\n",
       "      <td>142.0</td>\n",
       "      <td>84.000000</td>\n",
       "    </tr>\n",
       "    <tr>\n",
       "      <th>mean</th>\n",
       "      <td>1.727585e+06</td>\n",
       "      <td>1.726806e+05</td>\n",
       "      <td>1200.366197</td>\n",
       "      <td>1.497885e+06</td>\n",
       "      <td>5.967860e+05</td>\n",
       "      <td>2.421165e+06</td>\n",
       "      <td>34963.950704</td>\n",
       "      <td>37.816901</td>\n",
       "      <td>367.690141</td>\n",
       "      <td>2.257853e+05</td>\n",
       "      <td>24.647887</td>\n",
       "      <td>681.147887</td>\n",
       "      <td>7.286187e+05</td>\n",
       "      <td>15.198587</td>\n",
       "      <td>35.821064</td>\n",
       "      <td>2.844448</td>\n",
       "      <td>10.638415</td>\n",
       "      <td>0.0</td>\n",
       "      <td>3.823534</td>\n",
       "    </tr>\n",
       "    <tr>\n",
       "      <th>std</th>\n",
       "      <td>3.704389e+06</td>\n",
       "      <td>1.659968e+05</td>\n",
       "      <td>2229.457770</td>\n",
       "      <td>2.393296e+06</td>\n",
       "      <td>1.039388e+06</td>\n",
       "      <td>4.433593e+06</td>\n",
       "      <td>45300.747867</td>\n",
       "      <td>74.342949</td>\n",
       "      <td>1460.502581</td>\n",
       "      <td>7.578048e+05</td>\n",
       "      <td>80.337515</td>\n",
       "      <td>1069.172948</td>\n",
       "      <td>1.575560e+06</td>\n",
       "      <td>20.375767</td>\n",
       "      <td>194.171876</td>\n",
       "      <td>4.312736</td>\n",
       "      <td>18.454284</td>\n",
       "      <td>0.0</td>\n",
       "      <td>4.098911</td>\n",
       "    </tr>\n",
       "    <tr>\n",
       "      <th>min</th>\n",
       "      <td>0.000000e+00</td>\n",
       "      <td>0.000000e+00</td>\n",
       "      <td>0.000000</td>\n",
       "      <td>0.000000e+00</td>\n",
       "      <td>0.000000e+00</td>\n",
       "      <td>-4.409300e+04</td>\n",
       "      <td>0.000000</td>\n",
       "      <td>0.000000</td>\n",
       "      <td>0.000000</td>\n",
       "      <td>0.000000e+00</td>\n",
       "      <td>0.000000</td>\n",
       "      <td>0.000000</td>\n",
       "      <td>-2.604490e+06</td>\n",
       "      <td>0.000000</td>\n",
       "      <td>0.000000</td>\n",
       "      <td>0.000000</td>\n",
       "      <td>0.000000</td>\n",
       "      <td>0.0</td>\n",
       "      <td>0.000000</td>\n",
       "    </tr>\n",
       "    <tr>\n",
       "      <th>25%</th>\n",
       "      <td>0.000000e+00</td>\n",
       "      <td>0.000000e+00</td>\n",
       "      <td>0.000000</td>\n",
       "      <td>8.839225e+04</td>\n",
       "      <td>0.000000e+00</td>\n",
       "      <td>2.288695e+05</td>\n",
       "      <td>0.000000</td>\n",
       "      <td>0.000000</td>\n",
       "      <td>0.000000</td>\n",
       "      <td>0.000000e+00</td>\n",
       "      <td>0.000000</td>\n",
       "      <td>0.000000</td>\n",
       "      <td>8.115000e+03</td>\n",
       "      <td>0.000000</td>\n",
       "      <td>0.000000</td>\n",
       "      <td>0.000000</td>\n",
       "      <td>0.000000</td>\n",
       "      <td>0.0</td>\n",
       "      <td>0.887105</td>\n",
       "    </tr>\n",
       "    <tr>\n",
       "      <th>50%</th>\n",
       "      <td>6.046375e+05</td>\n",
       "      <td>2.083105e+05</td>\n",
       "      <td>289.000000</td>\n",
       "      <td>9.138250e+05</td>\n",
       "      <td>2.750000e+05</td>\n",
       "      <td>9.551135e+05</td>\n",
       "      <td>18094.500000</td>\n",
       "      <td>2.500000</td>\n",
       "      <td>16.500000</td>\n",
       "      <td>8.825000e+02</td>\n",
       "      <td>0.000000</td>\n",
       "      <td>102.500000</td>\n",
       "      <td>3.535955e+05</td>\n",
       "      <td>9.792470</td>\n",
       "      <td>5.889988</td>\n",
       "      <td>0.787407</td>\n",
       "      <td>0.000000</td>\n",
       "      <td>0.0</td>\n",
       "      <td>2.584537</td>\n",
       "    </tr>\n",
       "    <tr>\n",
       "      <th>75%</th>\n",
       "      <td>1.636585e+06</td>\n",
       "      <td>2.670998e+05</td>\n",
       "      <td>1513.000000</td>\n",
       "      <td>1.863625e+06</td>\n",
       "      <td>8.000000e+05</td>\n",
       "      <td>2.218031e+06</td>\n",
       "      <td>52905.250000</td>\n",
       "      <td>39.750000</td>\n",
       "      <td>51.250000</td>\n",
       "      <td>1.454285e+05</td>\n",
       "      <td>12.750000</td>\n",
       "      <td>871.500000</td>\n",
       "      <td>6.892030e+05</td>\n",
       "      <td>21.593596</td>\n",
       "      <td>22.361452</td>\n",
       "      <td>4.367335</td>\n",
       "      <td>16.995688</td>\n",
       "      <td>0.0</td>\n",
       "      <td>5.654326</td>\n",
       "    </tr>\n",
       "    <tr>\n",
       "      <th>max</th>\n",
       "      <td>3.076606e+07</td>\n",
       "      <td>1.060932e+06</td>\n",
       "      <td>15149.000000</td>\n",
       "      <td>1.725253e+07</td>\n",
       "      <td>8.000000e+06</td>\n",
       "      <td>3.076606e+07</td>\n",
       "      <td>228763.000000</td>\n",
       "      <td>528.000000</td>\n",
       "      <td>14368.000000</td>\n",
       "      <td>7.427621e+06</td>\n",
       "      <td>609.000000</td>\n",
       "      <td>5521.000000</td>\n",
       "      <td>1.384707e+07</td>\n",
       "      <td>94.795031</td>\n",
       "      <td>2274.591986</td>\n",
       "      <td>22.435175</td>\n",
       "      <td>100.000000</td>\n",
       "      <td>0.0</td>\n",
       "      <td>21.734104</td>\n",
       "    </tr>\n",
       "  </tbody>\n",
       "</table>\n",
       "</div>"
      ],
      "text/plain": [
       "       exercised_stock_options        salary   to_messages  total_payments  \\\n",
       "count             1.420000e+02  1.420000e+02    142.000000    1.420000e+02   \n",
       "mean              1.727585e+06  1.726806e+05   1200.366197    1.497885e+06   \n",
       "std               3.704389e+06  1.659968e+05   2229.457770    2.393296e+06   \n",
       "min               0.000000e+00  0.000000e+00      0.000000    0.000000e+00   \n",
       "25%               0.000000e+00  0.000000e+00      0.000000    8.839225e+04   \n",
       "50%               6.046375e+05  2.083105e+05    289.000000    9.138250e+05   \n",
       "75%               1.636585e+06  2.670998e+05   1513.000000    1.863625e+06   \n",
       "max               3.076606e+07  1.060932e+06  15149.000000    1.725253e+07   \n",
       "\n",
       "              bonus  total_stock_value       expenses  \\\n",
       "count  1.420000e+02       1.420000e+02     142.000000   \n",
       "mean   5.967860e+05       2.421165e+06   34963.950704   \n",
       "std    1.039388e+06       4.433593e+06   45300.747867   \n",
       "min    0.000000e+00      -4.409300e+04       0.000000   \n",
       "25%    0.000000e+00       2.288695e+05       0.000000   \n",
       "50%    2.750000e+05       9.551135e+05   18094.500000   \n",
       "75%    8.000000e+05       2.218031e+06   52905.250000   \n",
       "max    8.000000e+06       3.076606e+07  228763.000000   \n",
       "\n",
       "       from_poi_to_this_person  from_messages         other  \\\n",
       "count               142.000000     142.000000  1.420000e+02   \n",
       "mean                 37.816901     367.690141  2.257853e+05   \n",
       "std                  74.342949    1460.502581  7.578048e+05   \n",
       "min                   0.000000       0.000000  0.000000e+00   \n",
       "25%                   0.000000       0.000000  0.000000e+00   \n",
       "50%                   2.500000      16.500000  8.825000e+02   \n",
       "75%                  39.750000      51.250000  1.454285e+05   \n",
       "max                 528.000000   14368.000000  7.427621e+06   \n",
       "\n",
       "       from_this_person_to_poi  shared_receipt_with_poi  restricted_stock  \\\n",
       "count               142.000000               142.000000      1.420000e+02   \n",
       "mean                 24.647887               681.147887      7.286187e+05   \n",
       "std                  80.337515              1069.172948      1.575560e+06   \n",
       "min                   0.000000                 0.000000     -2.604490e+06   \n",
       "25%                   0.000000                 0.000000      8.115000e+03   \n",
       "50%                   0.000000               102.500000      3.535955e+05   \n",
       "75%                  12.750000               871.500000      6.892030e+05   \n",
       "max                 609.000000              5521.000000      1.384707e+07   \n",
       "\n",
       "       salary_of_total_payments  salary_of_total_stock_value   poi_ratio  \\\n",
       "count                142.000000                   142.000000  142.000000   \n",
       "mean                  15.198587                    35.821064    2.844448   \n",
       "std                   20.375767                   194.171876    4.312736   \n",
       "min                    0.000000                     0.000000    0.000000   \n",
       "25%                    0.000000                     0.000000    0.000000   \n",
       "50%                    9.792470                     5.889988    0.787407   \n",
       "75%                   21.593596                    22.361452    4.367335   \n",
       "max                   94.795031                  2274.591986   22.435175   \n",
       "\n",
       "       fraction_to_poi  fraction_from_poi  fraction_from_pi  \n",
       "count       142.000000              142.0         84.000000  \n",
       "mean         10.638415                0.0          3.823534  \n",
       "std          18.454284                0.0          4.098911  \n",
       "min           0.000000                0.0          0.000000  \n",
       "25%           0.000000                0.0          0.887105  \n",
       "50%           0.000000                0.0          2.584537  \n",
       "75%          16.995688                0.0          5.654326  \n",
       "max         100.000000                0.0         21.734104  "
      ]
     },
     "execution_count": 57,
     "metadata": {},
     "output_type": "execute_result"
    }
   ],
   "source": [
    "enron_df.describe()"
   ]
  },
  {
   "cell_type": "code",
   "execution_count": 58,
   "id": "63c5ed6c-eb2b-422a-86f4-fcab636f4728",
   "metadata": {},
   "outputs": [
    {
     "name": "stdout",
     "output_type": "stream",
     "text": [
      "['exercised_stock_options' 'salary' 'to_messages' 'total_payments' 'bonus'\n",
      " 'total_stock_value' 'expenses' 'from_poi_to_this_person' 'from_messages'\n",
      " 'other' 'from_this_person_to_poi' 'shared_receipt_with_poi'\n",
      " 'restricted_stock' 'salary_of_total_payments'\n",
      " 'salary_of_total_stock_value' 'poi_ratio' 'fraction_to_poi'\n",
      " 'fraction_from_poi' 'fraction_from_pi']\n"
     ]
    }
   ],
   "source": [
    "## setting up label, features and predictors\n",
    "predictors = enron_df.drop('poi', axis=1).columns.values\n",
    "print(predictors)"
   ]
  },
  {
   "cell_type": "code",
   "execution_count": 59,
   "id": "d64b7e4e-72f0-484d-aea6-831b7f6d0f5a",
   "metadata": {},
   "outputs": [],
   "source": [
    "enron_df_rep = enron_df.replace(to_replace=np.nan, value=0)\n",
    "enron_df_rep = enron_df.fillna(0).copy(deep=True)"
   ]
  },
  {
   "cell_type": "code",
   "execution_count": 60,
   "id": "85019096-d079-45a2-95af-4a3c40c2ca61",
   "metadata": {},
   "outputs": [
    {
     "name": "stderr",
     "output_type": "stream",
     "text": [
      "/Users/quangtn/opt/anaconda3/envs/bentoML/lib/python3.8/site-packages/sklearn/feature_selection/_univariate_selection.py:112: UserWarning: Features [17] are constant.\n",
      "  warnings.warn(\"Features %s are constant.\" % constant_features_idx, UserWarning)\n",
      "/Users/quangtn/opt/anaconda3/envs/bentoML/lib/python3.8/site-packages/sklearn/feature_selection/_univariate_selection.py:113: RuntimeWarning: invalid value encountered in divide\n",
      "  f = msb / msw\n"
     ]
    }
   ],
   "source": [
    "## selecting features\n",
    "from sklearn.feature_selection import SelectKBest, f_classif\n",
    "from sklearn.model_selection import KFold\n",
    "\n",
    "selector = SelectKBest(f_classif, k=5)\n",
    "selector.fit(enron_df_rep[predictors], enron_df['poi'])\n",
    "\n",
    "scores  = -np.log10(selector.pvalues_)\n",
    "indices = np.argsort(scores)[::-1]\n",
    "sorted_important_features = []\n",
    "for i in indices:\n",
    "    sorted_important_features.append(predictors[i])"
   ]
  },
  {
   "cell_type": "code",
   "execution_count": 61,
   "id": "0d5f8331-8b39-402a-beda-0a8254628c5f",
   "metadata": {},
   "outputs": [
    {
     "data": {
      "image/png": "[encoded data removed]",
      "text/plain": [
       "<Figure size 640x480 with 1 Axes>"
      ]
     },
     "metadata": {},
     "output_type": "display_data"
    }
   ],
   "source": [
    "# plot the scores\n",
    "plt.figure()\n",
    "plt.title(\"Feature importance\")\n",
    "plt.bar(range(np.size(predictors)), scores[indices], color=\"seagreen\",\n",
    "        yerr=np.std([indices]), align=\"center\")\n",
    "plt.xticks(range(np.size(predictors)), sorted_important_features,\n",
    "           rotation=\"vertical\")\n",
    "plt.xlim([-1, np.size(predictors)])\n",
    "plt.show()"
   ]
  },
  {
   "cell_type": "code",
   "execution_count": 62,
   "id": "b0a99cca-f12e-438e-a3bc-31d995c258fa",
   "metadata": {},
   "outputs": [],
   "source": [
    "# 13 features\n",
    "predictors = ['bonus', 'exercised_stock_options', 'expenses', \n",
    "    'from_poi_to_this_person', 'from_this_person_to_poi', 'restricted_stock',\n",
    "    'salary', 'shared_receipt_with_poi', 'total_stock_value', 'poi_ratio',\n",
    "    'fraction_to_poi', 'fraction_from_poi', 'salary_of_total_payments']\n",
    "\n",
    "# 8 features\n",
    "predictors_8 = ['bonus', 'exercised_stock_options', 'total_stock_value',\n",
    "    'fraction_to_poi', 'expenses', 'salary', 'shared_receipt_with_poi',\n",
    "    'poi_ratio']\n",
    "\n",
    "# 4 features\n",
    "predictors_4 = ['bonus', 'exercised_stock_options', 'total_stock_value', \n",
    "                'fraction_to_poi']"
   ]
  },
  {
   "cell_type": "code",
   "execution_count": 63,
   "id": "e908c5b7-4722-4e8f-a6d4-1850d5201a25",
   "metadata": {},
   "outputs": [],
   "source": [
    "### split the data on training and test data.\n",
    "labels = enron_df['poi'].copy(deep=True).astype(int).to_numpy()\n",
    "features = (enron_df[predictors]).fillna(0).copy(deep=True).to_numpy()"
   ]
  },
  {
   "cell_type": "code",
   "execution_count": 64,
   "id": "630496b0-d6de-4d93-a5ab-0e06ebccee96",
   "metadata": {},
   "outputs": [
    {
     "data": {
      "text/plain": [
       "array([0, 0, 0, 0, 1, 0, 0, 0, 0, 0, 0, 0, 0, 0, 0, 0, 1, 0, 0, 0, 0, 0,\n",
       "       0, 0, 0, 0, 0, 0, 0, 0, 1, 0, 0, 0, 0, 0, 0, 0, 0, 0, 1, 0, 0, 0,\n",
       "       0, 0, 0, 0, 0, 0, 0, 0, 1, 0, 0, 0, 0, 0, 0, 1, 0, 0, 0, 0, 0, 0,\n",
       "       0, 0, 0, 0, 0, 0, 0, 0, 1, 0, 0, 0, 0, 0, 1, 0, 0, 0, 1, 0, 1, 1,\n",
       "       0, 0, 0, 0, 0, 0, 0, 0, 0, 0, 0, 0, 0, 0, 0, 0, 0, 0, 0, 0, 0, 0,\n",
       "       0, 0, 0, 0, 0, 0, 0, 0, 0, 0, 1, 1, 0, 0, 0, 0, 0, 0, 0, 0, 0, 1,\n",
       "       0, 0, 0, 0, 0, 0, 1, 0, 0, 1])"
      ]
     },
     "execution_count": 64,
     "metadata": {},
     "output_type": "execute_result"
    }
   ],
   "source": [
    "labels"
   ]
  },
  {
   "cell_type": "code",
   "execution_count": 65,
   "id": "dcea51fe-8655-4b3c-b541-6d19bc556a55",
   "metadata": {},
   "outputs": [
    {
     "data": {
      "text/plain": [
       "(142, 13)"
      ]
     },
     "execution_count": 65,
     "metadata": {},
     "output_type": "execute_result"
    }
   ],
   "source": [
    "features.shape"
   ]
  },
  {
   "cell_type": "code",
   "execution_count": 66,
   "id": "5999712b-a21d-4802-ab96-806fc4f574cb",
   "metadata": {},
   "outputs": [
    {
     "ename": "NameError",
     "evalue": "name 'b' is not defined",
     "output_type": "error",
     "traceback": [
      "\u001b[0;31m---------------------------------------------------------------------------\u001b[0m",
      "\u001b[0;31mNameError\u001b[0m                                 Traceback (most recent call last)",
      "Cell \u001b[0;32mIn[66], line 3\u001b[0m\n\u001b[1;32m      1\u001b[0m \u001b[38;5;66;03m# Scaling features\u001b[39;00m\n\u001b[1;32m      2\u001b[0m scaler \u001b[38;5;241m=\u001b[39m sklearn\u001b[38;5;241m.\u001b[39mpreprocessing\u001b[38;5;241m.\u001b[39mMinMaxScaler(feature_range\u001b[38;5;241m=\u001b[39m(\u001b[38;5;241m0\u001b[39m, \u001b[38;5;241m100\u001b[39m), copy\u001b[38;5;241m=\u001b[39m\u001b[38;5;28;01mTrue\u001b[39;00m)\n\u001b[0;32m----> 3\u001b[0m salary_scaled \u001b[38;5;241m=\u001b[39m scaler\u001b[38;5;241m.\u001b[39mfit_transform(\u001b[43mb\u001b[49m\u001b[38;5;241m.\u001b[39mvalues\u001b[38;5;241m.\u001b[39mreshape(\u001b[38;5;241m-\u001b[39m\u001b[38;5;241m1\u001b[39m,\u001b[38;5;241m1\u001b[39m))\n",
      "\u001b[0;31mNameError\u001b[0m: name 'b' is not defined"
     ]
    }
   ],
   "source": [
    "# Scaling features\n",
    "scaler = sklearn.preprocessing.MinMaxScaler(feature_range=(0, 100), copy=True)\n",
    "salary_scaled = scaler.fit_transform(b.values.reshape(-1,1))"
   ]
  },
  {
   "cell_type": "code",
   "execution_count": 67,
   "id": "f04dcbe7-33e9-438e-8b51-7deb7ef49553",
   "metadata": {},
   "outputs": [
    {
     "data": {
      "text/plain": [
       "(142,)"
      ]
     },
     "execution_count": 67,
     "metadata": {},
     "output_type": "execute_result"
    }
   ],
   "source": [
    "b = np.reshape(enron_df['salary'], (np.product(enron_df['salary'].shape),))\n",
    "b.shape"
   ]
  },
  {
   "cell_type": "code",
   "execution_count": 68,
   "id": "2f192604-f728-483d-8830-c3104ee5c49a",
   "metadata": {},
   "outputs": [
    {
     "name": "stdout",
     "output_type": "stream",
     "text": [
      "[0.86206897 0.82758621 0.85714286 0.78571429 0.78571429]\n",
      "GaussianNB mean score: 0.8236453201970443\n"
     ]
    }
   ],
   "source": [
    "## GaussianNB\n",
    "from sklearn.naive_bayes import GaussianNB\n",
    "gnb_clf = GaussianNB()\n",
    "scores = sklearn.model_selection.cross_val_score(gnb_clf, enron_df[predictors_8], labels)\n",
    "print(scores)\n",
    "print('GaussianNB mean score:', scores.mean())"
   ]
  },
  {
   "cell_type": "code",
   "execution_count": 69,
   "id": "fea82eec-19c4-4d77-9cf6-344b1771cfe2",
   "metadata": {},
   "outputs": [
    {
     "name": "stdout",
     "output_type": "stream",
     "text": [
      "[0.89655172 0.86206897 0.89285714 0.89285714 0.85714286]\n",
      "SVC mean score:  0.880295566502463\n"
     ]
    }
   ],
   "source": [
    "## Support Vector Machines\n",
    "from sklearn.svm import SVC\n",
    "from sklearn.model_selection import cross_val_score\n",
    "svc_clf = SVC()\n",
    "scores = cross_val_score(svc_clf, enron_df[predictors_8], labels)\n",
    "print(scores)\n",
    "print('SVC mean score: ', scores.mean())"
   ]
  },
  {
   "cell_type": "code",
   "execution_count": 70,
   "id": "cc37f2e5-326d-4c73-9ec4-cc954c908981",
   "metadata": {},
   "outputs": [
    {
     "name": "stdout",
     "output_type": "stream",
     "text": [
      "[0.89655172 0.89655172 0.89285714 0.89285714 0.78571429]\n",
      "RandomForest classifier mean score:  0.8729064039408867\n"
     ]
    }
   ],
   "source": [
    "# Random forest classifier\n",
    "from sklearn.ensemble import RandomForestClassifier\n",
    "\n",
    "rf_clf = RandomForestClassifier()\n",
    "scores = cross_val_score(rf_clf, enron_df[predictors_8], labels)\n",
    "print(scores)\n",
    "print('RandomForest classifier mean score: ', scores.mean())"
   ]
  },
  {
   "cell_type": "code",
   "execution_count": 71,
   "id": "54d44efd-3bdf-42f7-bfcc-0ffe1d2bc11e",
   "metadata": {},
   "outputs": [
    {
     "name": "stdout",
     "output_type": "stream",
     "text": [
      "[0.86206897 0.86206897 0.89285714 0.89285714 0.82142857]\n",
      "ExtraTreeClassifier mean score:  0.8662561576354679\n"
     ]
    }
   ],
   "source": [
    "# extra tree classifier\n",
    "from sklearn.ensemble import ExtraTreesClassifier\n",
    "\n",
    "erf_clf = ExtraTreesClassifier(n_estimators=10, max_depth=None, min_samples_split=2, random_state=0)\n",
    "scores = cross_val_score(erf_clf, enron_df[predictors_8], labels)\n",
    "print(scores)\n",
    "print('ExtraTreeClassifier mean score: ', scores.mean())"
   ]
  },
  {
   "cell_type": "code",
   "execution_count": 72,
   "id": "06333ee2-5453-4de5-a03c-16c9e754f3fe",
   "metadata": {},
   "outputs": [
    {
     "name": "stdout",
     "output_type": "stream",
     "text": [
      "[0.86206897 0.82758621 0.85714286 0.85714286 0.67857143]\n",
      "AdaBoostClassifier mean score:  0.8165024630541872\n"
     ]
    }
   ],
   "source": [
    "## AdaBoost classifier\n",
    "from sklearn.ensemble import AdaBoostClassifier\n",
    "adb_clf = AdaBoostClassifier(n_estimators=100)\n",
    "scores = cross_val_score(adb_clf, enron_df[predictors_8], labels)\n",
    "print(scores)\n",
    "print('AdaBoostClassifier mean score: ', scores.mean())"
   ]
  },
  {
   "cell_type": "code",
   "execution_count": 73,
   "id": "63cce363-9130-4ec8-ac24-55a615be9331",
   "metadata": {},
   "outputs": [
    {
     "name": "stdout",
     "output_type": "stream",
     "text": [
      "[0.79310345 0.68965517 0.78571429 0.82142857 0.75      ]\n",
      "AdaBoostClassifier mean score:  0.7679802955665025\n"
     ]
    }
   ],
   "source": [
    "# Logistic Regression\n",
    "from sklearn.linear_model import LogisticRegression\n",
    "lreg_clf = LogisticRegression()\n",
    "scores = cross_val_score(lreg_clf, enron_df[predictors_8], labels)\n",
    "print(scores)\n",
    "print('AdaBoostClassifier mean score: ', scores.mean())"
   ]
  },
  {
   "cell_type": "markdown",
   "id": "3a028b9a-d772-41cb-970a-237f40531af9",
   "metadata": {},
   "source": [
    "## Univariate feature selection with F-test for feature scoring"
   ]
  },
  {
   "cell_type": "code",
   "execution_count": 74,
   "id": "24cd8573-4878-408a-84ba-639a53684358",
   "metadata": {},
   "outputs": [],
   "source": [
    "from sklearn.feature_selection import SelectPercentile, f_classif"
   ]
  },
  {
   "cell_type": "code",
   "execution_count": 75,
   "id": "350f0d25-b655-4773-a12e-1ceb7025ad1b",
   "metadata": {},
   "outputs": [
    {
     "name": "stderr",
     "output_type": "stream",
     "text": [
      "/Users/quangtn/opt/anaconda3/envs/bentoML/lib/python3.8/site-packages/sklearn/feature_selection/_univariate_selection.py:112: UserWarning: Features [11] are constant.\n",
      "  warnings.warn(\"Features %s are constant.\" % constant_features_idx, UserWarning)\n",
      "/Users/quangtn/opt/anaconda3/envs/bentoML/lib/python3.8/site-packages/sklearn/feature_selection/_univariate_selection.py:113: RuntimeWarning: invalid value encountered in divide\n",
      "  f = msb / msw\n"
     ]
    },
    {
     "data": {
      "text/plain": [
       "<BarContainer object of 13 artists>"
      ]
     },
     "execution_count": 75,
     "metadata": {},
     "output_type": "execute_result"
    },
    {
     "data": {
      "image/png": "[encoded data removed]",
      "text/plain": [
       "<Figure size 640x480 with 1 Axes>"
      ]
     },
     "metadata": {},
     "output_type": "display_data"
    }
   ],
   "source": [
    "selector = SelectPercentile(f_classif, percentile=10)\n",
    "selector.fit(features, labels)\n",
    "scores = -np.log(selector.pvalues_)\n",
    "scores /= scores.max()\n",
    "\n",
    "X_indices = np.arange(features.shape[-1])\n",
    "plt.bar(X_indices - .45, scores, width=.2,label=r'Univariate score ($-Log(p_[value])&)', color='green')"
   ]
  },
  {
   "cell_type": "code",
   "execution_count": 76,
   "id": "7693340b-c673-4ffc-b93a-9b3803dd3761",
   "metadata": {},
   "outputs": [],
   "source": [
    "from sklearn.pipeline import Pipeline, FeatureUnion\n",
    "from sklearn.model_selection import GridSearchCV\n",
    "from sklearn.svm import SVC\n",
    "from sklearn.decomposition import PCA\n",
    "from sklearn.feature_selection import SelectKBest"
   ]
  },
  {
   "cell_type": "code",
   "execution_count": 77,
   "id": "7aa22948-dcfc-4516-b0e8-00993f07d533",
   "metadata": {},
   "outputs": [],
   "source": [
    "pca = PCA(n_components=8)\n",
    "selection = SelectKBest(k=4)"
   ]
  },
  {
   "cell_type": "code",
   "execution_count": 78,
   "id": "e86ac8fd-14f7-4ca8-ba26-dd90a867a010",
   "metadata": {},
   "outputs": [
    {
     "name": "stderr",
     "output_type": "stream",
     "text": [
      "/Users/quangtn/opt/anaconda3/envs/bentoML/lib/python3.8/site-packages/sklearn/feature_selection/_univariate_selection.py:112: UserWarning: Features [11] are constant.\n",
      "  warnings.warn(\"Features %s are constant.\" % constant_features_idx, UserWarning)\n",
      "/Users/quangtn/opt/anaconda3/envs/bentoML/lib/python3.8/site-packages/sklearn/feature_selection/_univariate_selection.py:113: RuntimeWarning: invalid value encountered in divide\n",
      "  f = msb / msw\n"
     ]
    }
   ],
   "source": [
    "# Building an estimator from PCA and univariate seletion:\n",
    "combined_features = FeatureUnion([('pca', pca), ('univ_select', selection)])\n",
    "\n",
    "# Using combined features to transform dataset:\n",
    "X_features = combined_features.fit(features, labels).transform(features)"
   ]
  },
  {
   "cell_type": "code",
   "execution_count": 79,
   "id": "84af2a79-09a1-4115-9fa5-909086ba7501",
   "metadata": {},
   "outputs": [],
   "source": [
    "svm = SVC(kernel=\"linear\")\n",
    "pipeline = Pipeline([(\"features\", combined_features), (\"svm\", svm)])"
   ]
  },
  {
   "cell_type": "code",
   "execution_count": 80,
   "id": "8f41ee39-0911-4b00-9793-3284c1cd0140",
   "metadata": {},
   "outputs": [],
   "source": [
    "param_grid = dict(features__pca__n_components=[1,2,3],\n",
    "                  features__univ_select__k=[1,2],\n",
    "                  svm__C=[0.1, 1, 10])"
   ]
  },
  {
   "cell_type": "code",
   "execution_count": null,
   "id": "1113960f-fa8c-4c1e-8d5f-710bdbaf2c6b",
   "metadata": {},
   "outputs": [
    {
     "name": "stdout",
     "output_type": "stream",
     "text": [
      "Fitting 5 folds for each of 18 candidates, totalling 90 fits\n",
      "[CV 1/5; 1/18] START features__pca__n_components=1, features__univ_select__k=1, svm__C=0.1\n"
     ]
    },
    {
     "name": "stderr",
     "output_type": "stream",
     "text": [
      "/Users/quangtn/opt/anaconda3/envs/bentoML/lib/python3.8/site-packages/sklearn/feature_selection/_univariate_selection.py:112: UserWarning: Features [11] are constant.\n",
      "  warnings.warn(\"Features %s are constant.\" % constant_features_idx, UserWarning)\n",
      "/Users/quangtn/opt/anaconda3/envs/bentoML/lib/python3.8/site-packages/sklearn/feature_selection/_univariate_selection.py:113: RuntimeWarning: invalid value encountered in divide\n",
      "  f = msb / msw\n"
     ]
    }
   ],
   "source": [
    "grid_search = GridSearchCV(pipeline, param_grid=param_grid, verbose=10)\n",
    "grid_search.fit(features, labels)\n",
    "print(grid_search.best_estimator_)"
   ]
  },
  {
   "cell_type": "markdown",
   "id": "d0d47de5-d20d-4b72-ada6-87ea9f1f6b57",
   "metadata": {},
   "source": [
    "## pipeline for extracting features from the data using PCA and SelectKBest and then creates a model_SVC"
   ]
  },
  {
   "cell_type": "code",
   "execution_count": null,
   "id": "d5b2fb87-b12b-496f-936e-c7e10d2ca3e1",
   "metadata": {},
   "outputs": [],
   "source": [
    "import pandas as pd\n",
    "from sklearn.model_selection import KFold, cross_val_score, GridSearchCV\n",
    "from sklearn.pipeline import Pipeline, FeatureUnion\n",
    "from sklearn.linear_model import LogisticRegression\n",
    "from sklearn.decomposition import PCA\n",
    "from sklearn.feature_selection import SelectKBest\n",
    "from sklearn.svm import SVC\n",
    "#from sklearn.grid_search import GridSearchCV"
   ]
  },
  {
   "cell_type": "code",
   "execution_count": null,
   "id": "968a1495-8e1d-4555-84dc-13d7cf259a89",
   "metadata": {},
   "outputs": [],
   "source": [
    "# Creating feature union\n",
    "features_pipeline = []\n",
    "features_pipeline.append(('pca', PCA(n_components=4)))\n",
    "features_pipeline.append(('select_best', SelectKBest(k=8)))\n",
    "feature_union = FeatureUnion(features_pipeline)"
   ]
  },
  {
   "cell_type": "code",
   "execution_count": 5,
   "id": "93e7689b-1417-4b23-92da-8034343d8252",
   "metadata": {},
   "outputs": [
    {
     "ename": "NameError",
     "evalue": "name 'features' is not defined",
     "output_type": "error",
     "traceback": [
      "\u001b[0;31m---------------------------------------------------------------------------\u001b[0m",
      "\u001b[0;31mNameError\u001b[0m                                 Traceback (most recent call last)",
      "Cell \u001b[0;32mIn[5], line 14\u001b[0m\n\u001b[1;32m      7\u001b[0m param_grid \u001b[38;5;241m=\u001b[39m {\n\u001b[1;32m      8\u001b[0m     \u001b[38;5;124m'\u001b[39m\u001b[38;5;124msvc__C\u001b[39m\u001b[38;5;124m'\u001b[39m: [\u001b[38;5;241m1e3\u001b[39m, \u001b[38;5;241m5e3\u001b[39m, \u001b[38;5;241m1e4\u001b[39m, \u001b[38;5;241m5e4\u001b[39m, \u001b[38;5;241m1e5\u001b[39m],\n\u001b[1;32m      9\u001b[0m     \u001b[38;5;124m'\u001b[39m\u001b[38;5;124msvc__gamma\u001b[39m\u001b[38;5;124m'\u001b[39m: [\u001b[38;5;241m0.0001\u001b[39m, \u001b[38;5;241m0.0005\u001b[39m, \u001b[38;5;241m0.001\u001b[39m, \u001b[38;5;241m0.005\u001b[39m, \u001b[38;5;241m0.01\u001b[39m, \u001b[38;5;241m0.1\u001b[39m],\n\u001b[1;32m     10\u001b[0m     \u001b[38;5;124m'\u001b[39m\u001b[38;5;124msvc__degree\u001b[39m\u001b[38;5;124m'\u001b[39m: [\u001b[38;5;241m1\u001b[39m, \u001b[38;5;241m2\u001b[39m, \u001b[38;5;241m3\u001b[39m, \u001b[38;5;241m4\u001b[39m, \u001b[38;5;241m5\u001b[39m]\n\u001b[1;32m     11\u001b[0m }\n\u001b[1;32m     13\u001b[0m grid_svc \u001b[38;5;241m=\u001b[39m GridSearchCV(model_svc, param_grid)\n\u001b[0;32m---> 14\u001b[0m grid_svc \u001b[38;5;241m=\u001b[39m grid_svc\u001b[38;5;241m.\u001b[39mfit(\u001b[43mfeatures\u001b[49m, labels)\n\u001b[1;32m     15\u001b[0m \u001b[38;5;28mprint\u001b[39m(grid_svc\u001b[38;5;241m.\u001b[39mbest_estimator_)\n",
      "\u001b[0;31mNameError\u001b[0m: name 'features' is not defined"
     ]
    }
   ],
   "source": [
    "# creating a pipeline for rbfSVC\n",
    "estimators = []\n",
    "estimators.append(('feature_union', feature_union))\n",
    "estimators.append(('svc', SVC(kernel='rbf', class_weight='balanced')))\n",
    "model_svc=Pipeline(estimators)\n",
    "\n",
    "param_grid = {\n",
    "    'svc__C': [1e3, 5e3, 1e4, 5e4, 1e5],\n",
    "    'svc__gamma': [0.0001, 0.0005, 0.001, 0.005, 0.01, 0.1],\n",
    "    'svc__degree': [1, 2, 3, 4, 5]\n",
    "}\n",
    "\n",
    "grid_svc = GridSearchCV(model_svc, param_grid)\n",
    "grid_svc = grid_svc.fit(features, labels)\n",
    "print(grid_svc.best_estimator_)"
   ]
  },
  {
   "cell_type": "code",
   "execution_count": 6,
   "id": "0ca7ff24-292d-4178-9772-23456225a23c",
   "metadata": {},
   "outputs": [
    {
     "ename": "AttributeError",
     "evalue": "'GridSearchCV' object has no attribute 'best_estimator_'",
     "output_type": "error",
     "traceback": [
      "\u001b[0;31m---------------------------------------------------------------------------\u001b[0m",
      "\u001b[0;31mAttributeError\u001b[0m                            Traceback (most recent call last)",
      "Cell \u001b[0;32mIn[6], line 1\u001b[0m\n\u001b[0;32m----> 1\u001b[0m best_svc_pipe \u001b[38;5;241m=\u001b[39m \u001b[43mgrid_svc\u001b[49m\u001b[38;5;241;43m.\u001b[39;49m\u001b[43mbest_estimator_\u001b[49m\n\u001b[1;32m      3\u001b[0m \u001b[38;5;66;03m# evaluating pipeline for rbfSVC\u001b[39;00m\n\u001b[1;32m      4\u001b[0m seed \u001b[38;5;241m=\u001b[39m \u001b[38;5;241m7\u001b[39m\n",
      "\u001b[0;31mAttributeError\u001b[0m: 'GridSearchCV' object has no attribute 'best_estimator_'"
     ]
    }
   ],
   "source": [
    "best_svc_pipe = grid_svc.best_estimator_\n",
    "\n",
    "# evaluating pipeline for rbfSVC\n",
    "seed = 7\n",
    "kfold = KFold(n_splits=10, random_state=seed)\n",
    "scores_svc = cross_val_score(model_svc, enron_df[predictors], labels, cv=kfold)\n",
    "print('rbfSVC mean score:', scores_svc.mean())"
   ]
  },
  {
   "cell_type": "markdown",
   "id": "7102b95e-86a0-40c1-a43d-25430b9b2890",
   "metadata": {},
   "source": [
    "## Creating pipeline for RandomForest"
   ]
  },
  {
   "cell_type": "code",
   "execution_count": null,
   "id": "335ce927-86d6-4b81-b556-89c129e1a746",
   "metadata": {},
   "outputs": [],
   "source": [
    "from sklearn.ensemble import RandomForestClassifier"
   ]
  },
  {
   "cell_type": "code",
   "execution_count": null,
   "id": "54a78ab9-bb89-4fa8-bf80-6f16cb0fa8fb",
   "metadata": {},
   "outputs": [],
   "source": [
    "estimators = []\n",
    "estimators.append(('feature_union', feature_union))\n",
    "estimators.append(('RandomForest', RandomForestClassifier()))\n",
    "model_rf=Pipeline(estimators)\n",
    "print(sorted(model_rf.get_params().keys()))"
   ]
  },
  {
   "cell_type": "code",
   "execution_count": null,
   "id": "bfd23e1a-0895-48dd-89e6-4eab9f48449f",
   "metadata": {},
   "outputs": [],
   "source": [
    "\"\"\" Finding the best fitting parameter \"\"\"\n",
    "param_grid = {\n",
    "    'RandomForest__n_estimators': [10, 20, 30, 40, 50],\n",
    "    'RandomForest__min_samples_split': [2, 3, 4, 5],\n",
    "    'RandomForest__min_samples_leaf': [1, 2, 3]\n",
    "}\n",
    "\n",
    "grid_rf = GridSearchCV(model_rf, param_grid)\n",
    "grid_rf = grid_rf.fit(features, labels)\n",
    "print(grid_rf.best_estimator_)\n",
    "\n",
    "# Best fitting svc_clf\n",
    "best_rf_pipe = grid_rf.best_estimator_\n",
    "\n",
    "# evaluating pipeline for rf\n",
    "seed=7\n",
    "kfold = KFold(n_splits=10, random_state=seed)\n",
    "scores_rf = cross_val_score(model_rf, enron_df[predictors], labels, cv=kfold)\n",
    "print('RandomForest mean score:', score_rf.mean())"
   ]
  },
  {
   "cell_type": "markdown",
   "id": "3b377a9f-bb75-4461-814a-295a60347951",
   "metadata": {},
   "source": [
    "## Finding best fit parameter for SVM(kernel='rbf') with PCA and cross validation"
   ]
  },
  {
   "cell_type": "code",
   "execution_count": null,
   "id": "5b3869bd-cc52-491f-9034-6f2d9c3f3036",
   "metadata": {},
   "outputs": [],
   "source": [
    "from sklearn.decompostion import PCA\n",
    "from sklearn.grid_search import GridSearchCV"
   ]
  },
  {
   "cell_type": "code",
   "execution_count": null,
   "id": "a5d74e25-d74d-442d-99a3-0d59ce5564ef",
   "metadata": {},
   "outputs": [],
   "source": [
    "pca = PCA(n_components=4).fit(features)\n",
    "features_transformed=pca.transform(features)\n",
    "feature_pca=pca.components_\n",
    "\n",
    "print('features_transformed[0]:', features_transformed[0])\n",
    "print('features_pca[0]: ', features_pca[0])"
   ]
  },
  {
   "cell_type": "code",
   "execution_count": null,
   "id": "346213b2-8650-459e-bd17-756287b4e2e5",
   "metadata": {},
   "outputs": [],
   "source": [
    "# training a svm classification model\n",
    "\n",
    "param_grid = {\n",
    "    'C': [1e3, 5e3, 1e4, 5e4, 1e5], \n",
    "             'gamma': [0.0001, 0.0005, 0.001, 0.005, 0.01, 0.1],\n",
    "             'degree': [1,2,3,4,5]}\n",
    "}\n",
    "\n",
    "clf = GridSearchCV(SVC(kernel='rbf', class_weight='balanced'), pram_grid)\n",
    "clf = clf.fit(features_transformed, labels)\n",
    "pred_svc = clf.predict(features_transformed)\n",
    "\n",
    "print(clf.best_estimator_)\n",
    "best_svc_clf = clf.best_estimator_"
   ]
  },
  {
   "cell_type": "code",
   "execution_count": null,
   "id": "3f91c649-1d41-4638-95f4-8b7eb8916c63",
   "metadata": {},
   "outputs": [],
   "source": [
    "scores = cross_val_score(best_svc_clf, features, labels)\n",
    "print('SVC after PCA mean score:', score.mean())"
   ]
  },
  {
   "cell_type": "code",
   "execution_count": null,
   "id": "c1a185d8-6755-47ae-adb8-102365d46725",
   "metadata": {},
   "outputs": [],
   "source": [
    "pred_svc = SVC(C=1000.0, cache_size=200, class_weight='balanced', coef=0.0,\n",
    "    decision_function_shape=None, degree=1, gamma=0.001, kernel='rbf',\n",
    "    max_iter=-1, probability=False, random_state=None, shrinking=True,\n",
    "    tol=0.001, verbose=False).fit(features_transformed,\n",
    "                    labels).predict(feature_transformed)\n",
    "\n",
    "print(pred_svc)"
   ]
  },
  {
   "cell_type": "code",
   "execution_count": null,
   "id": "1c6f2d98-7b33-4beb-bb4e-5dc99f32ee28",
   "metadata": {},
   "outputs": [],
   "source": [
    "### Getting the best-fit"
   ]
  }
 ],
 "metadata": {
  "kernelspec": {
   "display_name": "Python 3 (ipykernel)",
   "language": "python",
   "name": "python3"
  },
  "language_info": {
   "codemirror_mode": {
    "name": "ipython",
    "version": 3
   },
   "file_extension": ".py",
   "mimetype": "text/x-python",
   "name": "python",
   "nbconvert_exporter": "python",
   "pygments_lexer": "ipython3",
   "version": "3.8.18"
  }
 },
 "nbformat": 4,
 "nbformat_minor": 5
}
